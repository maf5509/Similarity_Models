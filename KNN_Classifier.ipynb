{
 "cells": [
  {
   "cell_type": "code",
   "execution_count": 1,
   "metadata": {
    "collapsed": true
   },
   "outputs": [],
   "source": [
    "import numpy as np\n",
    "import math\n",
    "import pandas as pd\n",
    "import scipy\n",
    "import matplotlib.pyplot as plt\n",
    "import seaborn as sns\n",
    "%matplotlib inline"
   ]
  },
  {
   "cell_type": "markdown",
   "metadata": {},
   "source": [
    "### Homemade Un-Normalized, n-Dimensional, Binary KNN Classifier:"
   ]
  },
  {
   "cell_type": "code",
   "execution_count": 2,
   "metadata": {
    "collapsed": true
   },
   "outputs": [],
   "source": [
    "def knn():\n",
    "    input_data = pd.read_csv('C://Users//fergu//input.csv', index_col=0)\n",
    "\n",
    "    outcome_variable = input(\"Enter the name of the variable you are trying to predict:\")\n",
    "    user_input = (input(\"Your comma-separated values in same order as the dataFrame, e.g. 2,6,3:\"))\n",
    "    input_list = user_input.split(',')\n",
    "    neighbors = int(input(\"Enter the number of neighbors you want to consider:\"))\n",
    "       \n",
    "    dimensions = len(input_data.columns) - 1\n",
    "    # Remove the column containing the variable to be predicted and work with the others:\n",
    "    variables_frame = input_data.drop(str(outcome_variable), axis=1)\n",
    "    # Create column to hold the (pythagorean) distance from the input 'point' to the 'point'\n",
    "    # ...represented by each row in n-dimensional space:\n",
    "    variables_frame['distance'] = None \n",
    "    \n",
    "    # For each row i....:\n",
    "    for i in range(0, len(variables_frame)):\n",
    "        multiplied_values = 0\n",
    "    # ...Iterate over columns j:\n",
    "        for j in range(0, len(variables_frame.columns) - 1): \n",
    "    # Calculate the distance from the input point to the point represented by row i\n",
    "    # ... i.e. Pythagoras' Theorem generalized over any no. of dimensions:\n",
    "            multiplied_values += (abs(int(input_list[j]) - variables_frame.iloc[i][j]))**2     \n",
    "        variables_frame['distance'][i] = multiplied_values**(1 / 2)\n",
    "    \n",
    "    # Having computed all 'distances', sort their INDICES from shortest to longest: \n",
    "    sdi_almostfinal = (variables_frame['distance']).argsort()\n",
    "    # find the indices of the lowest (shortest) values based on no. of neighbors:\n",
    "    sdi_final = list(sdi_almostfinal[:neighbors])\n",
    "\n",
    "    variables_frame[outcome_variable] = input_data[outcome_variable]\n",
    " \n",
    "    if dimensions == 2:\n",
    "        plt.figure(figsize=(15, 8))\n",
    "        \n",
    "        plt.scatter(input_data[input_data[outcome_variable] == 0].iloc[0],\n",
    "                    input_data[input_data[outcome_variable] == 0].iloc[1],\n",
    "                    color='red')\n",
    "        plt.scatter(input_data[input_data[outcome_variable] == 1].iloc[0],\n",
    "                    input_data[input_data[outcome_variable] == 1].iloc[1],\n",
    "                    color='green')\n",
    "        plt.autoscale(enable=True)\n",
    "        plt.xlim(0, (input_data.iloc[0]).max())\n",
    "        plt.ylim(0, (input_data.iloc[1]).max())         \n",
    "        plt.title('Your chosen variables plotted in 2-D space')\n",
    "        plt.show()\n",
    "#    else:\n",
    "#        print('Cannot produce plot for {}-dimensional space'.format(dimensions))\n",
    "    \n",
    "    # Compute a total where each of the shortest neighbors gets a 'vote':\n",
    "    aggregate = [variables_frame[outcome_variable][index] for index in sdi_final]\n",
    "    # The mean of these is the predicted value:\n",
    "    final_value = np.mean(aggregate)  \n",
    "    \n",
    "    print('Indices of nearest neighbors: {}'.format(sdi_final))\n",
    "    variables_frame2 = pd.DataFrame(columns=variables_frame.columns) \n",
    "\n",
    "    # Populate table of final values for nearest neighbors:\n",
    "    for n in range(0, len(sdi_final)):\n",
    "        variables_frame2.loc[n] = variables_frame.loc[sdi_final[n]]\n",
    "\n",
    "    print('Values of nearest neighbors: \\n {}'.format(variables_frame2))\n",
    "     \n",
    "    # State predicted value:    \n",
    "    if final_value < 0.5:\n",
    "            print('The predicted value is 0')   \n",
    "    elif final_value > 0.5:\n",
    "            print('The predicted value is 1')\n",
    "    else:\n",
    "            print('The outcome is equally likely to be 0 or 1')"
   ]
  },
  {
   "cell_type": "code",
   "execution_count": 3,
   "metadata": {},
   "outputs": [
    {
     "name": "stdout",
     "output_type": "stream",
     "text": [
      "Enter the name of the variable you are trying to predict:jazz\n",
      "Your comma-separated values in same order as the dataFrame, e.g. 2,6,3:145,35\n",
      "Enter the number of neighbors you want to consider:5\n"
     ]
    },
    {
     "name": "stderr",
     "output_type": "stream",
     "text": [
      "C:\\Users\\fergu\\Anaconda3\\lib\\site-packages\\ipykernel_launcher.py:24: SettingWithCopyWarning: \n",
      "A value is trying to be set on a copy of a slice from a DataFrame\n",
      "\n",
      "See the caveats in the documentation: http://pandas.pydata.org/pandas-docs/stable/indexing.html#indexing-view-versus-copy\n"
     ]
    },
    {
     "data": {
      "image/png": "[encoded data removed]",
      "text/plain": [
       "<matplotlib.figure.Figure at 0x17356e1f550>"
      ]
     },
     "metadata": {},
     "output_type": "display_data"
    },
    {
     "name": "stdout",
     "output_type": "stream",
     "text": [
      "Indices of nearest neighbors: [1, 15, 4, 20, 13]\n",
      "Values of nearest neighbors: \n",
      "   duration loudness   distance jazz\n",
      "0      134       34  11.045361    0\n",
      "1      153       13  23.409400    1\n",
      "2      122       22  26.419690    1\n",
      "3      164       16  26.870058    1\n",
      "4      110       51  38.483763    0\n",
      "The predicted value is 1\n"
     ]
    }
   ],
   "source": [
    "knn()"
   ]
  },
  {
   "cell_type": "code",
   "execution_count": 6,
   "metadata": {
    "collapsed": true
   },
   "outputs": [],
   "source": [
    " music = pd.DataFrame()\n",
    "music['duration'] = [184, 134, 243, 186, 122, 197, 294, 382, 102, 264, \n",
    "                     205, 110, 307, 110, 397, 153, 190, 192, 210, 403,\n",
    "                     164, 198, 204, 253, 234, 190, 182, 401, 376, 102]\n",
    "music['loudness'] = [18, 34, 43, 36, 22, 9, 29, 22, 10, 24, \n",
    "                     20, 10, 17, 51, 7, 13, 19, 12, 21, 22,\n",
    "                     16, 18, 4, 23, 34, 19, 14, 11, 37, 42]\n",
    "\n",
    "# We know whether the songs in our training data are jazz or not.\n",
    "music['jazz'] = [ 1, 0, 0, 0, 1, 1, 0, 1, 1, 0,\n",
    "                  0, 1, 1, 0, 1, 1, 0, 1, 1, 1,\n",
    "                  1, 1, 1, 1, 0, 0, 1, 1, 0, 0]"
   ]
  },
  {
   "cell_type": "markdown",
   "metadata": {},
   "source": [
    "### Cross-Check Against Scikit-Learn Version:\n",
    "This algorithm has been tested against the built-in Scikit-Learn version and agrees in all cases."
   ]
  },
  {
   "cell_type": "code",
   "execution_count": 7,
   "metadata": {},
   "outputs": [
    {
     "data": {
      "text/plain": [
       "array([1], dtype=int64)"
      ]
     },
     "execution_count": 7,
     "metadata": {},
     "output_type": "execute_result"
    }
   ],
   "source": [
    "from sklearn.neighbors import KNeighborsClassifier\n",
    "neighbors = KNeighborsClassifier(n_neighbors=5)\n",
    "\n",
    "X = music[['duration', 'loudness']]\n",
    "Y = music.jazz\n",
    "neighbors.fit(X,Y)\n",
    "\n",
    "neighbors.predict([[145,35]])"
   ]
  },
  {
   "cell_type": "code",
   "execution_count": null,
   "metadata": {
    "collapsed": true
   },
   "outputs": [],
   "source": []
  }
 ],
 "metadata": {
  "kernelspec": {
   "display_name": "Python 3",
   "language": "python",
   "name": "python3"
  },
  "language_info": {
   "codemirror_mode": {
    "name": "ipython",
    "version": 3
   },
   "file_extension": ".py",
   "mimetype": "text/x-python",
   "name": "python",
   "nbconvert_exporter": "python",
   "pygments_lexer": "ipython3",
   "version": "3.6.2"
  }
 },
 "nbformat": 4,
 "nbformat_minor": 2
}
