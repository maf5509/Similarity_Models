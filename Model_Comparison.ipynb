{
 "cells": [
  {
   "cell_type": "code",
   "execution_count": 100,
   "metadata": {
    "collapsed": true
   },
   "outputs": [],
   "source": [
    "import numpy as np\n",
    "import pandas as pd\n",
    "import matplotlib.pyplot as plt\n",
    "import seaborn as sns\n",
    "%matplotlib inline\n",
    "from sklearn import linear_model\n",
    "import math\n",
    "pd.options.display.float_format = '{:.3f}'.format"
   ]
  },
  {
   "cell_type": "markdown",
   "metadata": {},
   "source": [
    "# Comparing Models - OLS and KNN\n",
    "The aim of this report is to compare the accuracy of the OLS and linear regression models. To do this we will import a dataset from a study of unknown origin, containing details of weight, age and Blood Fat Content (BFC) data for a sample of 25 people. "
   ]
  },
  {
   "cell_type": "markdown",
   "metadata": {},
   "source": [
    "### Data Import and Initial Manipulation"
   ]
  },
  {
   "cell_type": "code",
   "execution_count": 101,
   "metadata": {},
   "outputs": [
    {
     "data": {
      "text/html": [
       "<div>\n",
       "<style>\n",
       "    .dataframe thead tr:only-child th {\n",
       "        text-align: right;\n",
       "    }\n",
       "\n",
       "    .dataframe thead th {\n",
       "        text-align: left;\n",
       "    }\n",
       "\n",
       "    .dataframe tbody tr th {\n",
       "        vertical-align: top;\n",
       "    }\n",
       "</style>\n",
       "<table border=\"1\" class=\"dataframe\">\n",
       "  <thead>\n",
       "    <tr style=\"text-align: right;\">\n",
       "      <th></th>\n",
       "      <th>data</th>\n",
       "    </tr>\n",
       "  </thead>\n",
       "  <tbody>\n",
       "    <tr>\n",
       "      <th>0</th>\n",
       "      <td>1  1  84  46  354</td>\n",
       "    </tr>\n",
       "    <tr>\n",
       "      <th>1</th>\n",
       "      <td>2  1  73  20  190</td>\n",
       "    </tr>\n",
       "    <tr>\n",
       "      <th>2</th>\n",
       "      <td>3  1  65  52  405</td>\n",
       "    </tr>\n",
       "    <tr>\n",
       "      <th>3</th>\n",
       "      <td>4  1  70  30  263</td>\n",
       "    </tr>\n",
       "    <tr>\n",
       "      <th>4</th>\n",
       "      <td>5  1  76  57  451</td>\n",
       "    </tr>\n",
       "  </tbody>\n",
       "</table>\n",
       "</div>"
      ],
      "text/plain": [
       "                 data\n",
       "0   1  1  84  46  354\n",
       "1   2  1  73  20  190\n",
       "2   3  1  65  52  405\n",
       "3   4  1  70  30  263\n",
       "4   5  1  76  57  451"
      ]
     },
     "execution_count": 101,
     "metadata": {},
     "output_type": "execute_result"
    }
   ],
   "source": [
    "# Original path now '403 Forbidden'\n",
    "# PATH = 'https://people.sc.fsu.edu/~jburkardt/datasets/regression/x09.txt'\n",
    "PATH = 'C://Users//fergu//blood_fat.txt'\n",
    "blood = pd.read_table(PATH, skiprows=35)\n",
    "blood.columns=['data']\n",
    "blood.head()"
   ]
  },
  {
   "cell_type": "code",
   "execution_count": 102,
   "metadata": {},
   "outputs": [
    {
     "data": {
      "text/html": [
       "<div>\n",
       "<style>\n",
       "    .dataframe thead tr:only-child th {\n",
       "        text-align: right;\n",
       "    }\n",
       "\n",
       "    .dataframe thead th {\n",
       "        text-align: left;\n",
       "    }\n",
       "\n",
       "    .dataframe tbody tr th {\n",
       "        vertical-align: top;\n",
       "    }\n",
       "</style>\n",
       "<table border=\"1\" class=\"dataframe\">\n",
       "  <thead>\n",
       "    <tr style=\"text-align: right;\">\n",
       "      <th></th>\n",
       "      <th>data</th>\n",
       "      <th>data2</th>\n",
       "    </tr>\n",
       "  </thead>\n",
       "  <tbody>\n",
       "    <tr>\n",
       "      <th>0</th>\n",
       "      <td>1  1  84  46  354</td>\n",
       "      <td>[, 1, , 1, , 84, , 46, , 354]</td>\n",
       "    </tr>\n",
       "    <tr>\n",
       "      <th>1</th>\n",
       "      <td>2  1  73  20  190</td>\n",
       "      <td>[, 2, , 1, , 73, , 20, , 190]</td>\n",
       "    </tr>\n",
       "    <tr>\n",
       "      <th>2</th>\n",
       "      <td>3  1  65  52  405</td>\n",
       "      <td>[, 3, , 1, , 65, , 52, , 405]</td>\n",
       "    </tr>\n",
       "    <tr>\n",
       "      <th>3</th>\n",
       "      <td>4  1  70  30  263</td>\n",
       "      <td>[, 4, , 1, , 70, , 30, , 263]</td>\n",
       "    </tr>\n",
       "    <tr>\n",
       "      <th>4</th>\n",
       "      <td>5  1  76  57  451</td>\n",
       "      <td>[, 5, , 1, , 76, , 57, , 451]</td>\n",
       "    </tr>\n",
       "    <tr>\n",
       "      <th>5</th>\n",
       "      <td>6  1  69  25  302</td>\n",
       "      <td>[, 6, , 1, , 69, , 25, , 302]</td>\n",
       "    </tr>\n",
       "    <tr>\n",
       "      <th>6</th>\n",
       "      <td>7  1  63  28  288</td>\n",
       "      <td>[, 7, , 1, , 63, , 28, , 288]</td>\n",
       "    </tr>\n",
       "    <tr>\n",
       "      <th>7</th>\n",
       "      <td>8  1  72  36  385</td>\n",
       "      <td>[, 8, , 1, , 72, , 36, , 385]</td>\n",
       "    </tr>\n",
       "    <tr>\n",
       "      <th>8</th>\n",
       "      <td>9  1  79  57  402</td>\n",
       "      <td>[, 9, , 1, , 79, , 57, , 402]</td>\n",
       "    </tr>\n",
       "    <tr>\n",
       "      <th>9</th>\n",
       "      <td>10  1  75  44  365</td>\n",
       "      <td>[10, , 1, , 75, , 44, , 365]</td>\n",
       "    </tr>\n",
       "    <tr>\n",
       "      <th>10</th>\n",
       "      <td>11  1  27  24  209</td>\n",
       "      <td>[11, , 1, , 27, , 24, , 209]</td>\n",
       "    </tr>\n",
       "    <tr>\n",
       "      <th>11</th>\n",
       "      <td>12  1  89  31  290</td>\n",
       "      <td>[12, , 1, , 89, , 31, , 290]</td>\n",
       "    </tr>\n",
       "    <tr>\n",
       "      <th>12</th>\n",
       "      <td>13  1  65  52  346</td>\n",
       "      <td>[13, , 1, , 65, , 52, , 346]</td>\n",
       "    </tr>\n",
       "    <tr>\n",
       "      <th>13</th>\n",
       "      <td>14  1  57  23  254</td>\n",
       "      <td>[14, , 1, , 57, , 23, , 254]</td>\n",
       "    </tr>\n",
       "    <tr>\n",
       "      <th>14</th>\n",
       "      <td>15  1  59  60  395</td>\n",
       "      <td>[15, , 1, , 59, , 60, , 395]</td>\n",
       "    </tr>\n",
       "    <tr>\n",
       "      <th>15</th>\n",
       "      <td>16  1  69  48  434</td>\n",
       "      <td>[16, , 1, , 69, , 48, , 434]</td>\n",
       "    </tr>\n",
       "    <tr>\n",
       "      <th>16</th>\n",
       "      <td>17  1  60  34  220</td>\n",
       "      <td>[17, , 1, , 60, , 34, , 220]</td>\n",
       "    </tr>\n",
       "    <tr>\n",
       "      <th>17</th>\n",
       "      <td>18  1  79  51  374</td>\n",
       "      <td>[18, , 1, , 79, , 51, , 374]</td>\n",
       "    </tr>\n",
       "    <tr>\n",
       "      <th>18</th>\n",
       "      <td>19  1  75  50  308</td>\n",
       "      <td>[19, , 1, , 75, , 50, , 308]</td>\n",
       "    </tr>\n",
       "    <tr>\n",
       "      <th>19</th>\n",
       "      <td>20  1  82  34  220</td>\n",
       "      <td>[20, , 1, , 82, , 34, , 220]</td>\n",
       "    </tr>\n",
       "    <tr>\n",
       "      <th>20</th>\n",
       "      <td>21  1  59  46  311</td>\n",
       "      <td>[21, , 1, , 59, , 46, , 311]</td>\n",
       "    </tr>\n",
       "    <tr>\n",
       "      <th>21</th>\n",
       "      <td>22  1  67  23  181</td>\n",
       "      <td>[22, , 1, , 67, , 23, , 181]</td>\n",
       "    </tr>\n",
       "    <tr>\n",
       "      <th>22</th>\n",
       "      <td>23  1  85  37  274</td>\n",
       "      <td>[23, , 1, , 85, , 37, , 274]</td>\n",
       "    </tr>\n",
       "    <tr>\n",
       "      <th>23</th>\n",
       "      <td>24  1  55  40  303</td>\n",
       "      <td>[24, , 1, , 55, , 40, , 303]</td>\n",
       "    </tr>\n",
       "    <tr>\n",
       "      <th>24</th>\n",
       "      <td>25  1  63  30  244</td>\n",
       "      <td>[25, , 1, , 63, , 30, , 244]</td>\n",
       "    </tr>\n",
       "  </tbody>\n",
       "</table>\n",
       "</div>"
      ],
      "text/plain": [
       "                  data                          data2\n",
       "0    1  1  84  46  354  [, 1, , 1, , 84, , 46, , 354]\n",
       "1    2  1  73  20  190  [, 2, , 1, , 73, , 20, , 190]\n",
       "2    3  1  65  52  405  [, 3, , 1, , 65, , 52, , 405]\n",
       "3    4  1  70  30  263  [, 4, , 1, , 70, , 30, , 263]\n",
       "4    5  1  76  57  451  [, 5, , 1, , 76, , 57, , 451]\n",
       "5    6  1  69  25  302  [, 6, , 1, , 69, , 25, , 302]\n",
       "6    7  1  63  28  288  [, 7, , 1, , 63, , 28, , 288]\n",
       "7    8  1  72  36  385  [, 8, , 1, , 72, , 36, , 385]\n",
       "8    9  1  79  57  402  [, 9, , 1, , 79, , 57, , 402]\n",
       "9   10  1  75  44  365   [10, , 1, , 75, , 44, , 365]\n",
       "10  11  1  27  24  209   [11, , 1, , 27, , 24, , 209]\n",
       "11  12  1  89  31  290   [12, , 1, , 89, , 31, , 290]\n",
       "12  13  1  65  52  346   [13, , 1, , 65, , 52, , 346]\n",
       "13  14  1  57  23  254   [14, , 1, , 57, , 23, , 254]\n",
       "14  15  1  59  60  395   [15, , 1, , 59, , 60, , 395]\n",
       "15  16  1  69  48  434   [16, , 1, , 69, , 48, , 434]\n",
       "16  17  1  60  34  220   [17, , 1, , 60, , 34, , 220]\n",
       "17  18  1  79  51  374   [18, , 1, , 79, , 51, , 374]\n",
       "18  19  1  75  50  308   [19, , 1, , 75, , 50, , 308]\n",
       "19  20  1  82  34  220   [20, , 1, , 82, , 34, , 220]\n",
       "20  21  1  59  46  311   [21, , 1, , 59, , 46, , 311]\n",
       "21  22  1  67  23  181   [22, , 1, , 67, , 23, , 181]\n",
       "22  23  1  85  37  274   [23, , 1, , 85, , 37, , 274]\n",
       "23  24  1  55  40  303   [24, , 1, , 55, , 40, , 303]\n",
       "24  25  1  63  30  244   [25, , 1, , 63, , 30, , 244]"
      ]
     },
     "execution_count": 102,
     "metadata": {},
     "output_type": "execute_result"
    }
   ],
   "source": [
    "blood['data2'] = blood['data'].str.split(' ')\n",
    "blood"
   ]
  },
  {
   "cell_type": "code",
   "execution_count": 103,
   "metadata": {
    "collapsed": true
   },
   "outputs": [],
   "source": [
    "for i in range(0, 10):\n",
    "    blood[(i)] = None\n",
    "\n",
    "for i in range(0, len(blood)):\n",
    "    for j in range(0, len(blood.loc[i]['data2'])):\n",
    "        if i <= 8:\n",
    "            blood.loc[i][j] = blood.loc[i]['data2'][j]\n",
    "        else:\n",
    "            blood.loc[i][j+1] = blood.loc[i]['data2'][j]"
   ]
  },
  {
   "cell_type": "code",
   "execution_count": 104,
   "metadata": {},
   "outputs": [
    {
     "data": {
      "text/html": [
       "<div>\n",
       "<style>\n",
       "    .dataframe thead tr:only-child th {\n",
       "        text-align: right;\n",
       "    }\n",
       "\n",
       "    .dataframe thead th {\n",
       "        text-align: left;\n",
       "    }\n",
       "\n",
       "    .dataframe tbody tr th {\n",
       "        vertical-align: top;\n",
       "    }\n",
       "</style>\n",
       "<table border=\"1\" class=\"dataframe\">\n",
       "  <thead>\n",
       "    <tr style=\"text-align: right;\">\n",
       "      <th></th>\n",
       "      <th>data</th>\n",
       "      <th>data2</th>\n",
       "      <th>0</th>\n",
       "      <th>1</th>\n",
       "      <th>2</th>\n",
       "      <th>3</th>\n",
       "      <th>4</th>\n",
       "      <th>5</th>\n",
       "      <th>6</th>\n",
       "      <th>7</th>\n",
       "      <th>8</th>\n",
       "      <th>9</th>\n",
       "    </tr>\n",
       "  </thead>\n",
       "  <tbody>\n",
       "    <tr>\n",
       "      <th>0</th>\n",
       "      <td>1  1  84  46  354</td>\n",
       "      <td>[, 1, , 1, , 84, , 46, , 354]</td>\n",
       "      <td></td>\n",
       "      <td>1</td>\n",
       "      <td></td>\n",
       "      <td>1</td>\n",
       "      <td></td>\n",
       "      <td>84</td>\n",
       "      <td></td>\n",
       "      <td>46</td>\n",
       "      <td></td>\n",
       "      <td>354</td>\n",
       "    </tr>\n",
       "    <tr>\n",
       "      <th>1</th>\n",
       "      <td>2  1  73  20  190</td>\n",
       "      <td>[, 2, , 1, , 73, , 20, , 190]</td>\n",
       "      <td></td>\n",
       "      <td>2</td>\n",
       "      <td></td>\n",
       "      <td>1</td>\n",
       "      <td></td>\n",
       "      <td>73</td>\n",
       "      <td></td>\n",
       "      <td>20</td>\n",
       "      <td></td>\n",
       "      <td>190</td>\n",
       "    </tr>\n",
       "    <tr>\n",
       "      <th>2</th>\n",
       "      <td>3  1  65  52  405</td>\n",
       "      <td>[, 3, , 1, , 65, , 52, , 405]</td>\n",
       "      <td></td>\n",
       "      <td>3</td>\n",
       "      <td></td>\n",
       "      <td>1</td>\n",
       "      <td></td>\n",
       "      <td>65</td>\n",
       "      <td></td>\n",
       "      <td>52</td>\n",
       "      <td></td>\n",
       "      <td>405</td>\n",
       "    </tr>\n",
       "    <tr>\n",
       "      <th>3</th>\n",
       "      <td>4  1  70  30  263</td>\n",
       "      <td>[, 4, , 1, , 70, , 30, , 263]</td>\n",
       "      <td></td>\n",
       "      <td>4</td>\n",
       "      <td></td>\n",
       "      <td>1</td>\n",
       "      <td></td>\n",
       "      <td>70</td>\n",
       "      <td></td>\n",
       "      <td>30</td>\n",
       "      <td></td>\n",
       "      <td>263</td>\n",
       "    </tr>\n",
       "    <tr>\n",
       "      <th>4</th>\n",
       "      <td>5  1  76  57  451</td>\n",
       "      <td>[, 5, , 1, , 76, , 57, , 451]</td>\n",
       "      <td></td>\n",
       "      <td>5</td>\n",
       "      <td></td>\n",
       "      <td>1</td>\n",
       "      <td></td>\n",
       "      <td>76</td>\n",
       "      <td></td>\n",
       "      <td>57</td>\n",
       "      <td></td>\n",
       "      <td>451</td>\n",
       "    </tr>\n",
       "    <tr>\n",
       "      <th>5</th>\n",
       "      <td>6  1  69  25  302</td>\n",
       "      <td>[, 6, , 1, , 69, , 25, , 302]</td>\n",
       "      <td></td>\n",
       "      <td>6</td>\n",
       "      <td></td>\n",
       "      <td>1</td>\n",
       "      <td></td>\n",
       "      <td>69</td>\n",
       "      <td></td>\n",
       "      <td>25</td>\n",
       "      <td></td>\n",
       "      <td>302</td>\n",
       "    </tr>\n",
       "    <tr>\n",
       "      <th>6</th>\n",
       "      <td>7  1  63  28  288</td>\n",
       "      <td>[, 7, , 1, , 63, , 28, , 288]</td>\n",
       "      <td></td>\n",
       "      <td>7</td>\n",
       "      <td></td>\n",
       "      <td>1</td>\n",
       "      <td></td>\n",
       "      <td>63</td>\n",
       "      <td></td>\n",
       "      <td>28</td>\n",
       "      <td></td>\n",
       "      <td>288</td>\n",
       "    </tr>\n",
       "    <tr>\n",
       "      <th>7</th>\n",
       "      <td>8  1  72  36  385</td>\n",
       "      <td>[, 8, , 1, , 72, , 36, , 385]</td>\n",
       "      <td></td>\n",
       "      <td>8</td>\n",
       "      <td></td>\n",
       "      <td>1</td>\n",
       "      <td></td>\n",
       "      <td>72</td>\n",
       "      <td></td>\n",
       "      <td>36</td>\n",
       "      <td></td>\n",
       "      <td>385</td>\n",
       "    </tr>\n",
       "    <tr>\n",
       "      <th>8</th>\n",
       "      <td>9  1  79  57  402</td>\n",
       "      <td>[, 9, , 1, , 79, , 57, , 402]</td>\n",
       "      <td></td>\n",
       "      <td>9</td>\n",
       "      <td></td>\n",
       "      <td>1</td>\n",
       "      <td></td>\n",
       "      <td>79</td>\n",
       "      <td></td>\n",
       "      <td>57</td>\n",
       "      <td></td>\n",
       "      <td>402</td>\n",
       "    </tr>\n",
       "    <tr>\n",
       "      <th>9</th>\n",
       "      <td>10  1  75  44  365</td>\n",
       "      <td>[10, , 1, , 75, , 44, , 365]</td>\n",
       "      <td>None</td>\n",
       "      <td>10</td>\n",
       "      <td></td>\n",
       "      <td>1</td>\n",
       "      <td></td>\n",
       "      <td>75</td>\n",
       "      <td></td>\n",
       "      <td>44</td>\n",
       "      <td></td>\n",
       "      <td>365</td>\n",
       "    </tr>\n",
       "    <tr>\n",
       "      <th>10</th>\n",
       "      <td>11  1  27  24  209</td>\n",
       "      <td>[11, , 1, , 27, , 24, , 209]</td>\n",
       "      <td>None</td>\n",
       "      <td>11</td>\n",
       "      <td></td>\n",
       "      <td>1</td>\n",
       "      <td></td>\n",
       "      <td>27</td>\n",
       "      <td></td>\n",
       "      <td>24</td>\n",
       "      <td></td>\n",
       "      <td>209</td>\n",
       "    </tr>\n",
       "    <tr>\n",
       "      <th>11</th>\n",
       "      <td>12  1  89  31  290</td>\n",
       "      <td>[12, , 1, , 89, , 31, , 290]</td>\n",
       "      <td>None</td>\n",
       "      <td>12</td>\n",
       "      <td></td>\n",
       "      <td>1</td>\n",
       "      <td></td>\n",
       "      <td>89</td>\n",
       "      <td></td>\n",
       "      <td>31</td>\n",
       "      <td></td>\n",
       "      <td>290</td>\n",
       "    </tr>\n",
       "    <tr>\n",
       "      <th>12</th>\n",
       "      <td>13  1  65  52  346</td>\n",
       "      <td>[13, , 1, , 65, , 52, , 346]</td>\n",
       "      <td>None</td>\n",
       "      <td>13</td>\n",
       "      <td></td>\n",
       "      <td>1</td>\n",
       "      <td></td>\n",
       "      <td>65</td>\n",
       "      <td></td>\n",
       "      <td>52</td>\n",
       "      <td></td>\n",
       "      <td>346</td>\n",
       "    </tr>\n",
       "    <tr>\n",
       "      <th>13</th>\n",
       "      <td>14  1  57  23  254</td>\n",
       "      <td>[14, , 1, , 57, , 23, , 254]</td>\n",
       "      <td>None</td>\n",
       "      <td>14</td>\n",
       "      <td></td>\n",
       "      <td>1</td>\n",
       "      <td></td>\n",
       "      <td>57</td>\n",
       "      <td></td>\n",
       "      <td>23</td>\n",
       "      <td></td>\n",
       "      <td>254</td>\n",
       "    </tr>\n",
       "    <tr>\n",
       "      <th>14</th>\n",
       "      <td>15  1  59  60  395</td>\n",
       "      <td>[15, , 1, , 59, , 60, , 395]</td>\n",
       "      <td>None</td>\n",
       "      <td>15</td>\n",
       "      <td></td>\n",
       "      <td>1</td>\n",
       "      <td></td>\n",
       "      <td>59</td>\n",
       "      <td></td>\n",
       "      <td>60</td>\n",
       "      <td></td>\n",
       "      <td>395</td>\n",
       "    </tr>\n",
       "    <tr>\n",
       "      <th>15</th>\n",
       "      <td>16  1  69  48  434</td>\n",
       "      <td>[16, , 1, , 69, , 48, , 434]</td>\n",
       "      <td>None</td>\n",
       "      <td>16</td>\n",
       "      <td></td>\n",
       "      <td>1</td>\n",
       "      <td></td>\n",
       "      <td>69</td>\n",
       "      <td></td>\n",
       "      <td>48</td>\n",
       "      <td></td>\n",
       "      <td>434</td>\n",
       "    </tr>\n",
       "    <tr>\n",
       "      <th>16</th>\n",
       "      <td>17  1  60  34  220</td>\n",
       "      <td>[17, , 1, , 60, , 34, , 220]</td>\n",
       "      <td>None</td>\n",
       "      <td>17</td>\n",
       "      <td></td>\n",
       "      <td>1</td>\n",
       "      <td></td>\n",
       "      <td>60</td>\n",
       "      <td></td>\n",
       "      <td>34</td>\n",
       "      <td></td>\n",
       "      <td>220</td>\n",
       "    </tr>\n",
       "    <tr>\n",
       "      <th>17</th>\n",
       "      <td>18  1  79  51  374</td>\n",
       "      <td>[18, , 1, , 79, , 51, , 374]</td>\n",
       "      <td>None</td>\n",
       "      <td>18</td>\n",
       "      <td></td>\n",
       "      <td>1</td>\n",
       "      <td></td>\n",
       "      <td>79</td>\n",
       "      <td></td>\n",
       "      <td>51</td>\n",
       "      <td></td>\n",
       "      <td>374</td>\n",
       "    </tr>\n",
       "    <tr>\n",
       "      <th>18</th>\n",
       "      <td>19  1  75  50  308</td>\n",
       "      <td>[19, , 1, , 75, , 50, , 308]</td>\n",
       "      <td>None</td>\n",
       "      <td>19</td>\n",
       "      <td></td>\n",
       "      <td>1</td>\n",
       "      <td></td>\n",
       "      <td>75</td>\n",
       "      <td></td>\n",
       "      <td>50</td>\n",
       "      <td></td>\n",
       "      <td>308</td>\n",
       "    </tr>\n",
       "    <tr>\n",
       "      <th>19</th>\n",
       "      <td>20  1  82  34  220</td>\n",
       "      <td>[20, , 1, , 82, , 34, , 220]</td>\n",
       "      <td>None</td>\n",
       "      <td>20</td>\n",
       "      <td></td>\n",
       "      <td>1</td>\n",
       "      <td></td>\n",
       "      <td>82</td>\n",
       "      <td></td>\n",
       "      <td>34</td>\n",
       "      <td></td>\n",
       "      <td>220</td>\n",
       "    </tr>\n",
       "    <tr>\n",
       "      <th>20</th>\n",
       "      <td>21  1  59  46  311</td>\n",
       "      <td>[21, , 1, , 59, , 46, , 311]</td>\n",
       "      <td>None</td>\n",
       "      <td>21</td>\n",
       "      <td></td>\n",
       "      <td>1</td>\n",
       "      <td></td>\n",
       "      <td>59</td>\n",
       "      <td></td>\n",
       "      <td>46</td>\n",
       "      <td></td>\n",
       "      <td>311</td>\n",
       "    </tr>\n",
       "    <tr>\n",
       "      <th>21</th>\n",
       "      <td>22  1  67  23  181</td>\n",
       "      <td>[22, , 1, , 67, , 23, , 181]</td>\n",
       "      <td>None</td>\n",
       "      <td>22</td>\n",
       "      <td></td>\n",
       "      <td>1</td>\n",
       "      <td></td>\n",
       "      <td>67</td>\n",
       "      <td></td>\n",
       "      <td>23</td>\n",
       "      <td></td>\n",
       "      <td>181</td>\n",
       "    </tr>\n",
       "    <tr>\n",
       "      <th>22</th>\n",
       "      <td>23  1  85  37  274</td>\n",
       "      <td>[23, , 1, , 85, , 37, , 274]</td>\n",
       "      <td>None</td>\n",
       "      <td>23</td>\n",
       "      <td></td>\n",
       "      <td>1</td>\n",
       "      <td></td>\n",
       "      <td>85</td>\n",
       "      <td></td>\n",
       "      <td>37</td>\n",
       "      <td></td>\n",
       "      <td>274</td>\n",
       "    </tr>\n",
       "    <tr>\n",
       "      <th>23</th>\n",
       "      <td>24  1  55  40  303</td>\n",
       "      <td>[24, , 1, , 55, , 40, , 303]</td>\n",
       "      <td>None</td>\n",
       "      <td>24</td>\n",
       "      <td></td>\n",
       "      <td>1</td>\n",
       "      <td></td>\n",
       "      <td>55</td>\n",
       "      <td></td>\n",
       "      <td>40</td>\n",
       "      <td></td>\n",
       "      <td>303</td>\n",
       "    </tr>\n",
       "    <tr>\n",
       "      <th>24</th>\n",
       "      <td>25  1  63  30  244</td>\n",
       "      <td>[25, , 1, , 63, , 30, , 244]</td>\n",
       "      <td>None</td>\n",
       "      <td>25</td>\n",
       "      <td></td>\n",
       "      <td>1</td>\n",
       "      <td></td>\n",
       "      <td>63</td>\n",
       "      <td></td>\n",
       "      <td>30</td>\n",
       "      <td></td>\n",
       "      <td>244</td>\n",
       "    </tr>\n",
       "  </tbody>\n",
       "</table>\n",
       "</div>"
      ],
      "text/plain": [
       "                  data                          data2     0   1 2  3 4   5 6  \\\n",
       "0    1  1  84  46  354  [, 1, , 1, , 84, , 46, , 354]         1    1    84     \n",
       "1    2  1  73  20  190  [, 2, , 1, , 73, , 20, , 190]         2    1    73     \n",
       "2    3  1  65  52  405  [, 3, , 1, , 65, , 52, , 405]         3    1    65     \n",
       "3    4  1  70  30  263  [, 4, , 1, , 70, , 30, , 263]         4    1    70     \n",
       "4    5  1  76  57  451  [, 5, , 1, , 76, , 57, , 451]         5    1    76     \n",
       "5    6  1  69  25  302  [, 6, , 1, , 69, , 25, , 302]         6    1    69     \n",
       "6    7  1  63  28  288  [, 7, , 1, , 63, , 28, , 288]         7    1    63     \n",
       "7    8  1  72  36  385  [, 8, , 1, , 72, , 36, , 385]         8    1    72     \n",
       "8    9  1  79  57  402  [, 9, , 1, , 79, , 57, , 402]         9    1    79     \n",
       "9   10  1  75  44  365   [10, , 1, , 75, , 44, , 365]  None  10    1    75     \n",
       "10  11  1  27  24  209   [11, , 1, , 27, , 24, , 209]  None  11    1    27     \n",
       "11  12  1  89  31  290   [12, , 1, , 89, , 31, , 290]  None  12    1    89     \n",
       "12  13  1  65  52  346   [13, , 1, , 65, , 52, , 346]  None  13    1    65     \n",
       "13  14  1  57  23  254   [14, , 1, , 57, , 23, , 254]  None  14    1    57     \n",
       "14  15  1  59  60  395   [15, , 1, , 59, , 60, , 395]  None  15    1    59     \n",
       "15  16  1  69  48  434   [16, , 1, , 69, , 48, , 434]  None  16    1    69     \n",
       "16  17  1  60  34  220   [17, , 1, , 60, , 34, , 220]  None  17    1    60     \n",
       "17  18  1  79  51  374   [18, , 1, , 79, , 51, , 374]  None  18    1    79     \n",
       "18  19  1  75  50  308   [19, , 1, , 75, , 50, , 308]  None  19    1    75     \n",
       "19  20  1  82  34  220   [20, , 1, , 82, , 34, , 220]  None  20    1    82     \n",
       "20  21  1  59  46  311   [21, , 1, , 59, , 46, , 311]  None  21    1    59     \n",
       "21  22  1  67  23  181   [22, , 1, , 67, , 23, , 181]  None  22    1    67     \n",
       "22  23  1  85  37  274   [23, , 1, , 85, , 37, , 274]  None  23    1    85     \n",
       "23  24  1  55  40  303   [24, , 1, , 55, , 40, , 303]  None  24    1    55     \n",
       "24  25  1  63  30  244   [25, , 1, , 63, , 30, , 244]  None  25    1    63     \n",
       "\n",
       "     7 8    9  \n",
       "0   46    354  \n",
       "1   20    190  \n",
       "2   52    405  \n",
       "3   30    263  \n",
       "4   57    451  \n",
       "5   25    302  \n",
       "6   28    288  \n",
       "7   36    385  \n",
       "8   57    402  \n",
       "9   44    365  \n",
       "10  24    209  \n",
       "11  31    290  \n",
       "12  52    346  \n",
       "13  23    254  \n",
       "14  60    395  \n",
       "15  48    434  \n",
       "16  34    220  \n",
       "17  51    374  \n",
       "18  50    308  \n",
       "19  34    220  \n",
       "20  46    311  \n",
       "21  23    181  \n",
       "22  37    274  \n",
       "23  40    303  \n",
       "24  30    244  "
      ]
     },
     "execution_count": 104,
     "metadata": {},
     "output_type": "execute_result"
    }
   ],
   "source": [
    "blood"
   ]
  },
  {
   "cell_type": "code",
   "execution_count": 105,
   "metadata": {},
   "outputs": [
    {
     "data": {
      "text/plain": [
       "Index(['data', 'data2', 0, 1, 2, 3, 4, 5, 6, 7, 8, 9], dtype='object')"
      ]
     },
     "execution_count": 105,
     "metadata": {},
     "output_type": "execute_result"
    }
   ],
   "source": [
    "blood.columns"
   ]
  },
  {
   "cell_type": "code",
   "execution_count": 106,
   "metadata": {
    "collapsed": true
   },
   "outputs": [],
   "source": [
    "# Remove unneeded columns\n",
    "blood.drop(['data', 'data2', 0, 1, 2, 3, 4, 6, 8], axis=1, inplace=True)"
   ]
  },
  {
   "cell_type": "code",
   "execution_count": 107,
   "metadata": {},
   "outputs": [
    {
     "data": {
      "text/html": [
       "<div>\n",
       "<style>\n",
       "    .dataframe thead tr:only-child th {\n",
       "        text-align: right;\n",
       "    }\n",
       "\n",
       "    .dataframe thead th {\n",
       "        text-align: left;\n",
       "    }\n",
       "\n",
       "    .dataframe tbody tr th {\n",
       "        vertical-align: top;\n",
       "    }\n",
       "</style>\n",
       "<table border=\"1\" class=\"dataframe\">\n",
       "  <thead>\n",
       "    <tr style=\"text-align: right;\">\n",
       "      <th></th>\n",
       "      <th>5</th>\n",
       "      <th>7</th>\n",
       "      <th>9</th>\n",
       "    </tr>\n",
       "  </thead>\n",
       "  <tbody>\n",
       "    <tr>\n",
       "      <th>0</th>\n",
       "      <td>84</td>\n",
       "      <td>46</td>\n",
       "      <td>354</td>\n",
       "    </tr>\n",
       "    <tr>\n",
       "      <th>1</th>\n",
       "      <td>73</td>\n",
       "      <td>20</td>\n",
       "      <td>190</td>\n",
       "    </tr>\n",
       "    <tr>\n",
       "      <th>2</th>\n",
       "      <td>65</td>\n",
       "      <td>52</td>\n",
       "      <td>405</td>\n",
       "    </tr>\n",
       "    <tr>\n",
       "      <th>3</th>\n",
       "      <td>70</td>\n",
       "      <td>30</td>\n",
       "      <td>263</td>\n",
       "    </tr>\n",
       "    <tr>\n",
       "      <th>4</th>\n",
       "      <td>76</td>\n",
       "      <td>57</td>\n",
       "      <td>451</td>\n",
       "    </tr>\n",
       "  </tbody>\n",
       "</table>\n",
       "</div>"
      ],
      "text/plain": [
       "    5   7    9\n",
       "0  84  46  354\n",
       "1  73  20  190\n",
       "2  65  52  405\n",
       "3  70  30  263\n",
       "4  76  57  451"
      ]
     },
     "execution_count": 107,
     "metadata": {},
     "output_type": "execute_result"
    }
   ],
   "source": [
    "blood.head()"
   ]
  },
  {
   "cell_type": "code",
   "execution_count": 108,
   "metadata": {
    "collapsed": true
   },
   "outputs": [],
   "source": [
    "# Data now ready to use. Change column names, reflecting that they \n",
    "# are not yet normalized:\n",
    "blood.columns = ['weight_unnorm', 'age_unnorm', 'bfc_unnorm']"
   ]
  },
  {
   "cell_type": "code",
   "execution_count": 109,
   "metadata": {},
   "outputs": [
    {
     "data": {
      "text/html": [
       "<div>\n",
       "<style>\n",
       "    .dataframe thead tr:only-child th {\n",
       "        text-align: right;\n",
       "    }\n",
       "\n",
       "    .dataframe thead th {\n",
       "        text-align: left;\n",
       "    }\n",
       "\n",
       "    .dataframe tbody tr th {\n",
       "        vertical-align: top;\n",
       "    }\n",
       "</style>\n",
       "<table border=\"1\" class=\"dataframe\">\n",
       "  <thead>\n",
       "    <tr style=\"text-align: right;\">\n",
       "      <th></th>\n",
       "      <th>weight_unnorm</th>\n",
       "      <th>age_unnorm</th>\n",
       "      <th>bfc_unnorm</th>\n",
       "    </tr>\n",
       "  </thead>\n",
       "  <tbody>\n",
       "    <tr>\n",
       "      <th>0</th>\n",
       "      <td>84</td>\n",
       "      <td>46</td>\n",
       "      <td>354</td>\n",
       "    </tr>\n",
       "    <tr>\n",
       "      <th>1</th>\n",
       "      <td>73</td>\n",
       "      <td>20</td>\n",
       "      <td>190</td>\n",
       "    </tr>\n",
       "    <tr>\n",
       "      <th>2</th>\n",
       "      <td>65</td>\n",
       "      <td>52</td>\n",
       "      <td>405</td>\n",
       "    </tr>\n",
       "    <tr>\n",
       "      <th>3</th>\n",
       "      <td>70</td>\n",
       "      <td>30</td>\n",
       "      <td>263</td>\n",
       "    </tr>\n",
       "    <tr>\n",
       "      <th>4</th>\n",
       "      <td>76</td>\n",
       "      <td>57</td>\n",
       "      <td>451</td>\n",
       "    </tr>\n",
       "  </tbody>\n",
       "</table>\n",
       "</div>"
      ],
      "text/plain": [
       "  weight_unnorm age_unnorm bfc_unnorm\n",
       "0            84         46        354\n",
       "1            73         20        190\n",
       "2            65         52        405\n",
       "3            70         30        263\n",
       "4            76         57        451"
      ]
     },
     "execution_count": 109,
     "metadata": {},
     "output_type": "execute_result"
    }
   ],
   "source": [
    "blood.head()"
   ]
  },
  {
   "cell_type": "code",
   "execution_count": 110,
   "metadata": {},
   "outputs": [
    {
     "data": {
      "text/plain": [
       "weight_unnorm    object\n",
       "age_unnorm       object\n",
       "bfc_unnorm       object\n",
       "dtype: object"
      ]
     },
     "execution_count": 110,
     "metadata": {},
     "output_type": "execute_result"
    }
   ],
   "source": [
    "blood.dtypes"
   ]
  },
  {
   "cell_type": "code",
   "execution_count": 111,
   "metadata": {},
   "outputs": [
    {
     "data": {
      "text/html": [
       "<div>\n",
       "<style>\n",
       "    .dataframe thead tr:only-child th {\n",
       "        text-align: right;\n",
       "    }\n",
       "\n",
       "    .dataframe thead th {\n",
       "        text-align: left;\n",
       "    }\n",
       "\n",
       "    .dataframe tbody tr th {\n",
       "        vertical-align: top;\n",
       "    }\n",
       "</style>\n",
       "<table border=\"1\" class=\"dataframe\">\n",
       "  <thead>\n",
       "    <tr style=\"text-align: right;\">\n",
       "      <th></th>\n",
       "      <th>weight_unnorm</th>\n",
       "      <th>age_unnorm</th>\n",
       "      <th>bfc_unnorm</th>\n",
       "    </tr>\n",
       "  </thead>\n",
       "  <tbody>\n",
       "    <tr>\n",
       "      <th>0</th>\n",
       "      <td>84</td>\n",
       "      <td>46</td>\n",
       "      <td>354</td>\n",
       "    </tr>\n",
       "    <tr>\n",
       "      <th>1</th>\n",
       "      <td>73</td>\n",
       "      <td>20</td>\n",
       "      <td>190</td>\n",
       "    </tr>\n",
       "    <tr>\n",
       "      <th>2</th>\n",
       "      <td>65</td>\n",
       "      <td>52</td>\n",
       "      <td>405</td>\n",
       "    </tr>\n",
       "    <tr>\n",
       "      <th>3</th>\n",
       "      <td>70</td>\n",
       "      <td>30</td>\n",
       "      <td>263</td>\n",
       "    </tr>\n",
       "    <tr>\n",
       "      <th>4</th>\n",
       "      <td>76</td>\n",
       "      <td>57</td>\n",
       "      <td>451</td>\n",
       "    </tr>\n",
       "  </tbody>\n",
       "</table>\n",
       "</div>"
      ],
      "text/plain": [
       "   weight_unnorm  age_unnorm  bfc_unnorm\n",
       "0             84          46         354\n",
       "1             73          20         190\n",
       "2             65          52         405\n",
       "3             70          30         263\n",
       "4             76          57         451"
      ]
     },
     "execution_count": 111,
     "metadata": {},
     "output_type": "execute_result"
    }
   ],
   "source": [
    "# Change the type of all data from string to float\n",
    "for i in range(0, len(blood)):\n",
    "    for col in blood.columns:\n",
    "            blood.loc[[i],[col]] = blood.loc[[i],[col]].astype(float)\n",
    "blood.head()"
   ]
  },
  {
   "cell_type": "markdown",
   "metadata": {},
   "source": [
    "### Plot BFC vs. Each of the Two Variables \n",
    "There is one outlier, a weight of 27 kg. This is unreasonably low so we will set it to the mean weight."
   ]
  },
  {
   "cell_type": "code",
   "execution_count": 112,
   "metadata": {},
   "outputs": [
    {
     "data": {
      "image/png": "[encoded data removed]",
      "text/plain": [
       "<matplotlib.figure.Figure at 0x2278831b8d0>"
      ]
     },
     "metadata": {},
     "output_type": "display_data"
    }
   ],
   "source": [
    "plt.scatter(x='weight_unnorm', y='bfc_unnorm', data=blood)\n",
    "plt.show()"
   ]
  },
  {
   "cell_type": "code",
   "execution_count": 113,
   "metadata": {},
   "outputs": [
    {
     "data": {
      "text/plain": [
       "10"
      ]
     },
     "execution_count": 113,
     "metadata": {},
     "output_type": "execute_result"
    }
   ],
   "source": [
    "list(blood['weight_unnorm']).index(27)"
   ]
  },
  {
   "cell_type": "code",
   "execution_count": 114,
   "metadata": {
    "collapsed": true
   },
   "outputs": [],
   "source": [
    "blood.loc[[10],['weight_unnorm']] = blood['weight_unnorm'].mean()"
   ]
  },
  {
   "cell_type": "code",
   "execution_count": 115,
   "metadata": {
    "collapsed": true
   },
   "outputs": [],
   "source": [
    "# Normalize all variables\n",
    "blood['weight'] = [(blood['weight_unnorm'][i] - blood['weight_unnorm'].min()) / (blood['weight_unnorm'].max() - blood['weight_unnorm'].min())\n",
    "                   for i in range(0, len(blood['weight_unnorm']))]"
   ]
  },
  {
   "cell_type": "code",
   "execution_count": 116,
   "metadata": {
    "collapsed": true
   },
   "outputs": [],
   "source": [
    "blood['age'] = [(blood['age_unnorm'][i] - blood['age_unnorm'].min()) / (blood['age_unnorm'].max() - blood['age_unnorm'].min()) \n",
    "                   for i in range(0, len(blood['age_unnorm']))]"
   ]
  },
  {
   "cell_type": "code",
   "execution_count": 117,
   "metadata": {
    "collapsed": true
   },
   "outputs": [],
   "source": [
    "blood['bfc'] = [(blood['bfc_unnorm'][i] - blood['bfc_unnorm'].min()) / (blood['bfc_unnorm'].max() - blood['bfc_unnorm'].min()) \n",
    "                   for i in range(0, len(blood['bfc_unnorm']))]"
   ]
  },
  {
   "cell_type": "code",
   "execution_count": 118,
   "metadata": {},
   "outputs": [
    {
     "data": {
      "text/html": [
       "<div>\n",
       "<style>\n",
       "    .dataframe thead tr:only-child th {\n",
       "        text-align: right;\n",
       "    }\n",
       "\n",
       "    .dataframe thead th {\n",
       "        text-align: left;\n",
       "    }\n",
       "\n",
       "    .dataframe tbody tr th {\n",
       "        vertical-align: top;\n",
       "    }\n",
       "</style>\n",
       "<table border=\"1\" class=\"dataframe\">\n",
       "  <thead>\n",
       "    <tr style=\"text-align: right;\">\n",
       "      <th></th>\n",
       "      <th>weight_unnorm</th>\n",
       "      <th>age_unnorm</th>\n",
       "      <th>bfc_unnorm</th>\n",
       "      <th>weight</th>\n",
       "      <th>age</th>\n",
       "      <th>bfc</th>\n",
       "    </tr>\n",
       "  </thead>\n",
       "  <tbody>\n",
       "    <tr>\n",
       "      <th>0</th>\n",
       "      <td>84.000</td>\n",
       "      <td>46</td>\n",
       "      <td>354</td>\n",
       "      <td>0.853</td>\n",
       "      <td>0.650</td>\n",
       "      <td>0.641</td>\n",
       "    </tr>\n",
       "    <tr>\n",
       "      <th>1</th>\n",
       "      <td>73.000</td>\n",
       "      <td>20</td>\n",
       "      <td>190</td>\n",
       "      <td>0.529</td>\n",
       "      <td>0.000</td>\n",
       "      <td>0.033</td>\n",
       "    </tr>\n",
       "    <tr>\n",
       "      <th>2</th>\n",
       "      <td>65.000</td>\n",
       "      <td>52</td>\n",
       "      <td>405</td>\n",
       "      <td>0.294</td>\n",
       "      <td>0.800</td>\n",
       "      <td>0.830</td>\n",
       "    </tr>\n",
       "    <tr>\n",
       "      <th>3</th>\n",
       "      <td>70.000</td>\n",
       "      <td>30</td>\n",
       "      <td>263</td>\n",
       "      <td>0.441</td>\n",
       "      <td>0.250</td>\n",
       "      <td>0.304</td>\n",
       "    </tr>\n",
       "    <tr>\n",
       "      <th>4</th>\n",
       "      <td>76.000</td>\n",
       "      <td>57</td>\n",
       "      <td>451</td>\n",
       "      <td>0.618</td>\n",
       "      <td>0.925</td>\n",
       "      <td>1.000</td>\n",
       "    </tr>\n",
       "  </tbody>\n",
       "</table>\n",
       "</div>"
      ],
      "text/plain": [
       "   weight_unnorm  age_unnorm  bfc_unnorm  weight   age   bfc\n",
       "0         84.000          46         354   0.853 0.650 0.641\n",
       "1         73.000          20         190   0.529 0.000 0.033\n",
       "2         65.000          52         405   0.294 0.800 0.830\n",
       "3         70.000          30         263   0.441 0.250 0.304\n",
       "4         76.000          57         451   0.618 0.925 1.000"
      ]
     },
     "execution_count": 118,
     "metadata": {},
     "output_type": "execute_result"
    }
   ],
   "source": [
    "blood.head()"
   ]
  },
  {
   "cell_type": "markdown",
   "metadata": {},
   "source": [
    "### The Analysis\n",
    "First try to regress on blood fat level using a standard linear regression model."
   ]
  },
  {
   "cell_type": "code",
   "execution_count": 119,
   "metadata": {},
   "outputs": [
    {
     "data": {
      "text/plain": [
       "numpy.float64"
      ]
     },
     "execution_count": 119,
     "metadata": {},
     "output_type": "execute_result"
    }
   ],
   "source": [
    "type(blood['weight'][4])"
   ]
  },
  {
   "cell_type": "markdown",
   "metadata": {},
   "source": [
    "### No Clear Relationship Between Weight and  BFC\n",
    "Some attempts were made to find a relationship using logs and square roots, as shown below; but you cannot create a relationship where none exists."
   ]
  },
  {
   "cell_type": "code",
   "execution_count": 120,
   "metadata": {},
   "outputs": [
    {
     "data": {
      "image/png": "[encoded data removed]",
      "text/plain": [
       "<matplotlib.figure.Figure at 0x227883a4f98>"
      ]
     },
     "metadata": {},
     "output_type": "display_data"
    }
   ],
   "source": [
    "plt.scatter(x='weight', y='bfc', data=blood)\n",
    "plt.show()"
   ]
  },
  {
   "cell_type": "code",
   "execution_count": 121,
   "metadata": {},
   "outputs": [
    {
     "data": {
      "text/html": [
       "<div>\n",
       "<style>\n",
       "    .dataframe thead tr:only-child th {\n",
       "        text-align: right;\n",
       "    }\n",
       "\n",
       "    .dataframe thead th {\n",
       "        text-align: left;\n",
       "    }\n",
       "\n",
       "    .dataframe tbody tr th {\n",
       "        vertical-align: top;\n",
       "    }\n",
       "</style>\n",
       "<table border=\"1\" class=\"dataframe\">\n",
       "  <thead>\n",
       "    <tr style=\"text-align: right;\">\n",
       "      <th></th>\n",
       "      <th>weight_unnorm</th>\n",
       "      <th>age_unnorm</th>\n",
       "      <th>bfc_unnorm</th>\n",
       "      <th>weight</th>\n",
       "      <th>age</th>\n",
       "      <th>bfc</th>\n",
       "      <th>rootweight</th>\n",
       "    </tr>\n",
       "  </thead>\n",
       "  <tbody>\n",
       "    <tr>\n",
       "      <th>0</th>\n",
       "      <td>84.000</td>\n",
       "      <td>46</td>\n",
       "      <td>354</td>\n",
       "      <td>0.853</td>\n",
       "      <td>0.650</td>\n",
       "      <td>0.641</td>\n",
       "      <td>0.924</td>\n",
       "    </tr>\n",
       "    <tr>\n",
       "      <th>1</th>\n",
       "      <td>73.000</td>\n",
       "      <td>20</td>\n",
       "      <td>190</td>\n",
       "      <td>0.529</td>\n",
       "      <td>0.000</td>\n",
       "      <td>0.033</td>\n",
       "      <td>0.728</td>\n",
       "    </tr>\n",
       "    <tr>\n",
       "      <th>2</th>\n",
       "      <td>65.000</td>\n",
       "      <td>52</td>\n",
       "      <td>405</td>\n",
       "      <td>0.294</td>\n",
       "      <td>0.800</td>\n",
       "      <td>0.830</td>\n",
       "      <td>0.542</td>\n",
       "    </tr>\n",
       "    <tr>\n",
       "      <th>3</th>\n",
       "      <td>70.000</td>\n",
       "      <td>30</td>\n",
       "      <td>263</td>\n",
       "      <td>0.441</td>\n",
       "      <td>0.250</td>\n",
       "      <td>0.304</td>\n",
       "      <td>0.664</td>\n",
       "    </tr>\n",
       "    <tr>\n",
       "      <th>4</th>\n",
       "      <td>76.000</td>\n",
       "      <td>57</td>\n",
       "      <td>451</td>\n",
       "      <td>0.618</td>\n",
       "      <td>0.925</td>\n",
       "      <td>1.000</td>\n",
       "      <td>0.786</td>\n",
       "    </tr>\n",
       "  </tbody>\n",
       "</table>\n",
       "</div>"
      ],
      "text/plain": [
       "   weight_unnorm  age_unnorm  bfc_unnorm  weight   age   bfc  rootweight\n",
       "0         84.000          46         354   0.853 0.650 0.641       0.924\n",
       "1         73.000          20         190   0.529 0.000 0.033       0.728\n",
       "2         65.000          52         405   0.294 0.800 0.830       0.542\n",
       "3         70.000          30         263   0.441 0.250 0.304       0.664\n",
       "4         76.000          57         451   0.618 0.925 1.000       0.786"
      ]
     },
     "execution_count": 121,
     "metadata": {},
     "output_type": "execute_result"
    }
   ],
   "source": [
    "blood['rootweight'] = [np.sqrt(blood['weight'][i]) for i in range(0, len(blood['weight']))]\n",
    "blood.head()"
   ]
  },
  {
   "cell_type": "code",
   "execution_count": 122,
   "metadata": {},
   "outputs": [
    {
     "data": {
      "image/png": "[encoded data removed]",
      "text/plain": [
       "<matplotlib.figure.Figure at 0x227886eada0>"
      ]
     },
     "metadata": {},
     "output_type": "display_data"
    }
   ],
   "source": [
    "plt.scatter(x='rootweight', y='bfc', data=blood)\n",
    "plt.show()"
   ]
  },
  {
   "cell_type": "code",
   "execution_count": 123,
   "metadata": {},
   "outputs": [
    {
     "data": {
      "text/html": [
       "<div>\n",
       "<style>\n",
       "    .dataframe thead tr:only-child th {\n",
       "        text-align: right;\n",
       "    }\n",
       "\n",
       "    .dataframe thead th {\n",
       "        text-align: left;\n",
       "    }\n",
       "\n",
       "    .dataframe tbody tr th {\n",
       "        vertical-align: top;\n",
       "    }\n",
       "</style>\n",
       "<table border=\"1\" class=\"dataframe\">\n",
       "  <thead>\n",
       "    <tr style=\"text-align: right;\">\n",
       "      <th></th>\n",
       "      <th>weight_unnorm</th>\n",
       "      <th>age_unnorm</th>\n",
       "      <th>bfc_unnorm</th>\n",
       "      <th>weight</th>\n",
       "      <th>age</th>\n",
       "      <th>bfc</th>\n",
       "      <th>rootweight</th>\n",
       "      <th>squareweight</th>\n",
       "    </tr>\n",
       "  </thead>\n",
       "  <tbody>\n",
       "    <tr>\n",
       "      <th>0</th>\n",
       "      <td>84.000</td>\n",
       "      <td>46</td>\n",
       "      <td>354</td>\n",
       "      <td>0.853</td>\n",
       "      <td>0.650</td>\n",
       "      <td>0.641</td>\n",
       "      <td>0.924</td>\n",
       "      <td>0.728</td>\n",
       "    </tr>\n",
       "    <tr>\n",
       "      <th>1</th>\n",
       "      <td>73.000</td>\n",
       "      <td>20</td>\n",
       "      <td>190</td>\n",
       "      <td>0.529</td>\n",
       "      <td>0.000</td>\n",
       "      <td>0.033</td>\n",
       "      <td>0.728</td>\n",
       "      <td>0.280</td>\n",
       "    </tr>\n",
       "    <tr>\n",
       "      <th>2</th>\n",
       "      <td>65.000</td>\n",
       "      <td>52</td>\n",
       "      <td>405</td>\n",
       "      <td>0.294</td>\n",
       "      <td>0.800</td>\n",
       "      <td>0.830</td>\n",
       "      <td>0.542</td>\n",
       "      <td>0.087</td>\n",
       "    </tr>\n",
       "    <tr>\n",
       "      <th>3</th>\n",
       "      <td>70.000</td>\n",
       "      <td>30</td>\n",
       "      <td>263</td>\n",
       "      <td>0.441</td>\n",
       "      <td>0.250</td>\n",
       "      <td>0.304</td>\n",
       "      <td>0.664</td>\n",
       "      <td>0.195</td>\n",
       "    </tr>\n",
       "    <tr>\n",
       "      <th>4</th>\n",
       "      <td>76.000</td>\n",
       "      <td>57</td>\n",
       "      <td>451</td>\n",
       "      <td>0.618</td>\n",
       "      <td>0.925</td>\n",
       "      <td>1.000</td>\n",
       "      <td>0.786</td>\n",
       "      <td>0.381</td>\n",
       "    </tr>\n",
       "  </tbody>\n",
       "</table>\n",
       "</div>"
      ],
      "text/plain": [
       "   weight_unnorm  age_unnorm  bfc_unnorm  weight   age   bfc  rootweight  \\\n",
       "0         84.000          46         354   0.853 0.650 0.641       0.924   \n",
       "1         73.000          20         190   0.529 0.000 0.033       0.728   \n",
       "2         65.000          52         405   0.294 0.800 0.830       0.542   \n",
       "3         70.000          30         263   0.441 0.250 0.304       0.664   \n",
       "4         76.000          57         451   0.618 0.925 1.000       0.786   \n",
       "\n",
       "   squareweight  \n",
       "0         0.728  \n",
       "1         0.280  \n",
       "2         0.087  \n",
       "3         0.195  \n",
       "4         0.381  "
      ]
     },
     "execution_count": 123,
     "metadata": {},
     "output_type": "execute_result"
    }
   ],
   "source": [
    "blood['squareweight'] = [(blood['weight'][i])**2 for i in range(0, len(blood['weight']))]\n",
    "blood.head()"
   ]
  },
  {
   "cell_type": "code",
   "execution_count": 124,
   "metadata": {},
   "outputs": [
    {
     "data": {
      "image/png": "[encoded data removed]",
      "text/plain": [
       "<matplotlib.figure.Figure at 0x22788b4f7b8>"
      ]
     },
     "metadata": {},
     "output_type": "display_data"
    }
   ],
   "source": [
    "plt.scatter(x='squareweight', y='bfc', data=blood)\n",
    "plt.show()"
   ]
  },
  {
   "cell_type": "code",
   "execution_count": 125,
   "metadata": {},
   "outputs": [
    {
     "data": {
      "text/html": [
       "<div>\n",
       "<style>\n",
       "    .dataframe thead tr:only-child th {\n",
       "        text-align: right;\n",
       "    }\n",
       "\n",
       "    .dataframe thead th {\n",
       "        text-align: left;\n",
       "    }\n",
       "\n",
       "    .dataframe tbody tr th {\n",
       "        vertical-align: top;\n",
       "    }\n",
       "</style>\n",
       "<table border=\"1\" class=\"dataframe\">\n",
       "  <thead>\n",
       "    <tr style=\"text-align: right;\">\n",
       "      <th></th>\n",
       "      <th>weight_unnorm</th>\n",
       "      <th>age_unnorm</th>\n",
       "      <th>bfc_unnorm</th>\n",
       "      <th>weight</th>\n",
       "      <th>age</th>\n",
       "      <th>bfc</th>\n",
       "      <th>rootweight</th>\n",
       "      <th>squareweight</th>\n",
       "      <th>logweight</th>\n",
       "    </tr>\n",
       "  </thead>\n",
       "  <tbody>\n",
       "    <tr>\n",
       "      <th>0</th>\n",
       "      <td>84.000</td>\n",
       "      <td>46</td>\n",
       "      <td>354</td>\n",
       "      <td>0.853</td>\n",
       "      <td>0.650</td>\n",
       "      <td>0.641</td>\n",
       "      <td>0.924</td>\n",
       "      <td>0.728</td>\n",
       "      <td>-0.147</td>\n",
       "    </tr>\n",
       "    <tr>\n",
       "      <th>1</th>\n",
       "      <td>73.000</td>\n",
       "      <td>20</td>\n",
       "      <td>190</td>\n",
       "      <td>0.529</td>\n",
       "      <td>0.000</td>\n",
       "      <td>0.033</td>\n",
       "      <td>0.728</td>\n",
       "      <td>0.280</td>\n",
       "      <td>-0.617</td>\n",
       "    </tr>\n",
       "    <tr>\n",
       "      <th>2</th>\n",
       "      <td>65.000</td>\n",
       "      <td>52</td>\n",
       "      <td>405</td>\n",
       "      <td>0.294</td>\n",
       "      <td>0.800</td>\n",
       "      <td>0.830</td>\n",
       "      <td>0.542</td>\n",
       "      <td>0.087</td>\n",
       "      <td>-1.190</td>\n",
       "    </tr>\n",
       "    <tr>\n",
       "      <th>3</th>\n",
       "      <td>70.000</td>\n",
       "      <td>30</td>\n",
       "      <td>263</td>\n",
       "      <td>0.441</td>\n",
       "      <td>0.250</td>\n",
       "      <td>0.304</td>\n",
       "      <td>0.664</td>\n",
       "      <td>0.195</td>\n",
       "      <td>-0.796</td>\n",
       "    </tr>\n",
       "    <tr>\n",
       "      <th>4</th>\n",
       "      <td>76.000</td>\n",
       "      <td>57</td>\n",
       "      <td>451</td>\n",
       "      <td>0.618</td>\n",
       "      <td>0.925</td>\n",
       "      <td>1.000</td>\n",
       "      <td>0.786</td>\n",
       "      <td>0.381</td>\n",
       "      <td>-0.466</td>\n",
       "    </tr>\n",
       "  </tbody>\n",
       "</table>\n",
       "</div>"
      ],
      "text/plain": [
       "   weight_unnorm  age_unnorm  bfc_unnorm  weight   age   bfc  rootweight  \\\n",
       "0         84.000          46         354   0.853 0.650 0.641       0.924   \n",
       "1         73.000          20         190   0.529 0.000 0.033       0.728   \n",
       "2         65.000          52         405   0.294 0.800 0.830       0.542   \n",
       "3         70.000          30         263   0.441 0.250 0.304       0.664   \n",
       "4         76.000          57         451   0.618 0.925 1.000       0.786   \n",
       "\n",
       "   squareweight  logweight  \n",
       "0         0.728     -0.147  \n",
       "1         0.280     -0.617  \n",
       "2         0.087     -1.190  \n",
       "3         0.195     -0.796  \n",
       "4         0.381     -0.466  "
      ]
     },
     "execution_count": 125,
     "metadata": {},
     "output_type": "execute_result"
    }
   ],
   "source": [
    "# Add 0.01 to formula to prevent log(0)\n",
    "blood['logweight'] = [np.log(blood['weight'][i] + 0.01) for i in range(0, len(blood['weight']))]\n",
    "blood.head()"
   ]
  },
  {
   "cell_type": "code",
   "execution_count": 126,
   "metadata": {},
   "outputs": [
    {
     "data": {
      "image/png": "[encoded data removed]",
      "text/plain": [
       "<matplotlib.figure.Figure at 0x22788d44240>"
      ]
     },
     "metadata": {},
     "output_type": "display_data"
    }
   ],
   "source": [
    "plt.scatter(x='logweight', y='bfc', data=blood)\n",
    "plt.show()"
   ]
  },
  {
   "cell_type": "markdown",
   "metadata": {},
   "source": [
    "### A Good Linear Relationship Exists Between Age and BFC"
   ]
  },
  {
   "cell_type": "code",
   "execution_count": 127,
   "metadata": {},
   "outputs": [
    {
     "data": {
      "image/png": "[encoded data removed]",
      "text/plain": [
       "<matplotlib.figure.Figure at 0x22788f60b00>"
      ]
     },
     "metadata": {},
     "output_type": "display_data"
    }
   ],
   "source": [
    "plt.scatter(x='age', y='bfc', data=blood)\n",
    "plt.show()"
   ]
  },
  {
   "cell_type": "markdown",
   "metadata": {},
   "source": [
    "### Run the Linear Regression Model\n",
    "Running this model gives what appears to be a reasonably good R-squared value between BFC and the other two variables."
   ]
  },
  {
   "cell_type": "code",
   "execution_count": 128,
   "metadata": {},
   "outputs": [
    {
     "name": "stdout",
     "output_type": "stream",
     "text": [
      "Coefficients: \n",
      " [[ 0.78481407  0.03925465]]\n",
      "Intercept: \n",
      " [ 0.08758423]\n",
      "R-squared:  0.702538202786\n"
     ]
    }
   ],
   "source": [
    "linmodel = linear_model.LinearRegression()\n",
    "Y = blood['bfc'].values.reshape(-1,1)\n",
    "x = ['age', 'weight']\n",
    "X = blood[x]\n",
    "linmodel.fit(X, Y)\n",
    "\n",
    "print('Coefficients: \\n', linmodel.coef_)\n",
    "print('Intercept: \\n', linmodel.intercept_)\n",
    "print('R-squared: ', linmodel.score(X, Y))"
   ]
  },
  {
   "cell_type": "markdown",
   "metadata": {},
   "source": [
    "### Try Using the KNN Model\n",
    "The accuracy is clearly much worse with KNN than using the linear regression model. The KNN is slightly better when weighted. The KNN may have suffered from having one variable poorly correlated with the BFC. If we use 5 neighbors instead of 10, the accuracy decreases by about 0.4 - 0.5 in both the unweighted and weighted cases."
   ]
  },
  {
   "cell_type": "code",
   "execution_count": 129,
   "metadata": {},
   "outputs": [
    {
     "data": {
      "text/plain": [
       "KNeighborsRegressor(algorithm='auto', leaf_size=30, metric='minkowski',\n",
       "          metric_params=None, n_jobs=1, n_neighbors=15, p=2,\n",
       "          weights='distance')"
      ]
     },
     "execution_count": 129,
     "metadata": {},
     "output_type": "execute_result"
    }
   ],
   "source": [
    "from sklearn import neighbors\n",
    "# The unweighted model:\n",
    "knn = neighbors.KNeighborsRegressor(n_neighbors=15)\n",
    "\n",
    "# The weighted model:\n",
    "knn_w = neighbors.KNeighborsRegressor(n_neighbors=15, weights='distance')\n",
    "\n",
    "Yk = blood['bfc']\n",
    "Xk = blood[['age', 'weight']]\n",
    "\n",
    "knn.fit(Xk, Yk)\n",
    "knn_w.fit(Xk, Yk)"
   ]
  },
  {
   "cell_type": "code",
   "execution_count": 130,
   "metadata": {},
   "outputs": [
    {
     "name": "stdout",
     "output_type": "stream",
     "text": [
      "Unweighted Accuracy: -0.13 (+/- 1.16)\n",
      "Weighted Accuracy: 0.11 (+/- 1.14)\n"
     ]
    }
   ],
   "source": [
    "from sklearn.model_selection import cross_val_score\n",
    "score = cross_val_score(knn, Xk, Yk, cv=5)\n",
    "print(\"Unweighted Accuracy: %0.2f (+/- %0.2f)\" % (score.mean(), score.std() * 2))\n",
    "score_w = cross_val_score(knn_w, Xk, Yk, cv=5)\n",
    "print(\"Weighted Accuracy: %0.2f (+/- %0.2f)\" % (score_w.mean(), score_w.std() * 2))"
   ]
  },
  {
   "cell_type": "markdown",
   "metadata": {},
   "source": [
    "### Create an Extra Variable and Re-Run Both Models\n",
    "\n",
    "Since the KNN model performed poorly, the aim here is to see if it predicts better when both variables correlate more linearly with BFC. Thus we create a new variable 'good_corr' and use it instead of weight, which as we saw before, correlated very poorly with BFC."
   ]
  },
  {
   "cell_type": "code",
   "execution_count": 131,
   "metadata": {
    "collapsed": true
   },
   "outputs": [],
   "source": [
    "np.random.seed(7)\n",
    "blood['random'] = None\n",
    "blood['random'] = [np.random.randint(-14,14) for i in range(0,len(blood['random']))]"
   ]
  },
  {
   "cell_type": "code",
   "execution_count": 132,
   "metadata": {},
   "outputs": [
    {
     "data": {
      "text/html": [
       "<div>\n",
       "<style>\n",
       "    .dataframe thead tr:only-child th {\n",
       "        text-align: right;\n",
       "    }\n",
       "\n",
       "    .dataframe thead th {\n",
       "        text-align: left;\n",
       "    }\n",
       "\n",
       "    .dataframe tbody tr th {\n",
       "        vertical-align: top;\n",
       "    }\n",
       "</style>\n",
       "<table border=\"1\" class=\"dataframe\">\n",
       "  <thead>\n",
       "    <tr style=\"text-align: right;\">\n",
       "      <th></th>\n",
       "      <th>weight_unnorm</th>\n",
       "      <th>age_unnorm</th>\n",
       "      <th>bfc_unnorm</th>\n",
       "      <th>weight</th>\n",
       "      <th>age</th>\n",
       "      <th>bfc</th>\n",
       "      <th>rootweight</th>\n",
       "      <th>squareweight</th>\n",
       "      <th>logweight</th>\n",
       "      <th>random</th>\n",
       "    </tr>\n",
       "  </thead>\n",
       "  <tbody>\n",
       "    <tr>\n",
       "      <th>0</th>\n",
       "      <td>84.000</td>\n",
       "      <td>46</td>\n",
       "      <td>354</td>\n",
       "      <td>0.853</td>\n",
       "      <td>0.650</td>\n",
       "      <td>0.641</td>\n",
       "      <td>0.924</td>\n",
       "      <td>0.728</td>\n",
       "      <td>-0.147</td>\n",
       "      <td>1</td>\n",
       "    </tr>\n",
       "    <tr>\n",
       "      <th>1</th>\n",
       "      <td>73.000</td>\n",
       "      <td>20</td>\n",
       "      <td>190</td>\n",
       "      <td>0.529</td>\n",
       "      <td>0.000</td>\n",
       "      <td>0.033</td>\n",
       "      <td>0.728</td>\n",
       "      <td>0.280</td>\n",
       "      <td>-0.617</td>\n",
       "      <td>-10</td>\n",
       "    </tr>\n",
       "    <tr>\n",
       "      <th>2</th>\n",
       "      <td>65.000</td>\n",
       "      <td>52</td>\n",
       "      <td>405</td>\n",
       "      <td>0.294</td>\n",
       "      <td>0.800</td>\n",
       "      <td>0.830</td>\n",
       "      <td>0.542</td>\n",
       "      <td>0.087</td>\n",
       "      <td>-1.190</td>\n",
       "      <td>11</td>\n",
       "    </tr>\n",
       "    <tr>\n",
       "      <th>3</th>\n",
       "      <td>70.000</td>\n",
       "      <td>30</td>\n",
       "      <td>263</td>\n",
       "      <td>0.441</td>\n",
       "      <td>0.250</td>\n",
       "      <td>0.304</td>\n",
       "      <td>0.664</td>\n",
       "      <td>0.195</td>\n",
       "      <td>-0.796</td>\n",
       "      <td>8</td>\n",
       "    </tr>\n",
       "    <tr>\n",
       "      <th>4</th>\n",
       "      <td>76.000</td>\n",
       "      <td>57</td>\n",
       "      <td>451</td>\n",
       "      <td>0.618</td>\n",
       "      <td>0.925</td>\n",
       "      <td>1.000</td>\n",
       "      <td>0.786</td>\n",
       "      <td>0.381</td>\n",
       "      <td>-0.466</td>\n",
       "      <td>-11</td>\n",
       "    </tr>\n",
       "  </tbody>\n",
       "</table>\n",
       "</div>"
      ],
      "text/plain": [
       "   weight_unnorm  age_unnorm  bfc_unnorm  weight   age   bfc  rootweight  \\\n",
       "0         84.000          46         354   0.853 0.650 0.641       0.924   \n",
       "1         73.000          20         190   0.529 0.000 0.033       0.728   \n",
       "2         65.000          52         405   0.294 0.800 0.830       0.542   \n",
       "3         70.000          30         263   0.441 0.250 0.304       0.664   \n",
       "4         76.000          57         451   0.618 0.925 1.000       0.786   \n",
       "\n",
       "   squareweight  logweight  random  \n",
       "0         0.728     -0.147       1  \n",
       "1         0.280     -0.617     -10  \n",
       "2         0.087     -1.190      11  \n",
       "3         0.195     -0.796       8  \n",
       "4         0.381     -0.466     -11  "
      ]
     },
     "execution_count": 132,
     "metadata": {},
     "output_type": "execute_result"
    }
   ],
   "source": [
    "blood.head()"
   ]
  },
  {
   "cell_type": "code",
   "execution_count": 133,
   "metadata": {},
   "outputs": [
    {
     "data": {
      "text/html": [
       "<div>\n",
       "<style>\n",
       "    .dataframe thead tr:only-child th {\n",
       "        text-align: right;\n",
       "    }\n",
       "\n",
       "    .dataframe thead th {\n",
       "        text-align: left;\n",
       "    }\n",
       "\n",
       "    .dataframe tbody tr th {\n",
       "        vertical-align: top;\n",
       "    }\n",
       "</style>\n",
       "<table border=\"1\" class=\"dataframe\">\n",
       "  <thead>\n",
       "    <tr style=\"text-align: right;\">\n",
       "      <th></th>\n",
       "      <th>weight_unnorm</th>\n",
       "      <th>age_unnorm</th>\n",
       "      <th>bfc_unnorm</th>\n",
       "      <th>weight</th>\n",
       "      <th>age</th>\n",
       "      <th>bfc</th>\n",
       "      <th>rootweight</th>\n",
       "      <th>squareweight</th>\n",
       "      <th>logweight</th>\n",
       "      <th>random</th>\n",
       "      <th>good_corr</th>\n",
       "    </tr>\n",
       "  </thead>\n",
       "  <tbody>\n",
       "    <tr>\n",
       "      <th>0</th>\n",
       "      <td>84.000</td>\n",
       "      <td>46</td>\n",
       "      <td>354</td>\n",
       "      <td>0.853</td>\n",
       "      <td>0.650</td>\n",
       "      <td>0.641</td>\n",
       "      <td>0.924</td>\n",
       "      <td>0.728</td>\n",
       "      <td>-0.147</td>\n",
       "      <td>1</td>\n",
       "      <td>1.050</td>\n",
       "    </tr>\n",
       "    <tr>\n",
       "      <th>1</th>\n",
       "      <td>73.000</td>\n",
       "      <td>20</td>\n",
       "      <td>190</td>\n",
       "      <td>0.529</td>\n",
       "      <td>0.000</td>\n",
       "      <td>0.033</td>\n",
       "      <td>0.728</td>\n",
       "      <td>0.280</td>\n",
       "      <td>-0.617</td>\n",
       "      <td>-10</td>\n",
       "      <td>-0.100</td>\n",
       "    </tr>\n",
       "    <tr>\n",
       "      <th>2</th>\n",
       "      <td>65.000</td>\n",
       "      <td>52</td>\n",
       "      <td>405</td>\n",
       "      <td>0.294</td>\n",
       "      <td>0.800</td>\n",
       "      <td>0.830</td>\n",
       "      <td>0.542</td>\n",
       "      <td>0.087</td>\n",
       "      <td>-1.190</td>\n",
       "      <td>11</td>\n",
       "      <td>1.390</td>\n",
       "    </tr>\n",
       "    <tr>\n",
       "      <th>3</th>\n",
       "      <td>70.000</td>\n",
       "      <td>30</td>\n",
       "      <td>263</td>\n",
       "      <td>0.441</td>\n",
       "      <td>0.250</td>\n",
       "      <td>0.304</td>\n",
       "      <td>0.664</td>\n",
       "      <td>0.195</td>\n",
       "      <td>-0.796</td>\n",
       "      <td>8</td>\n",
       "      <td>0.480</td>\n",
       "    </tr>\n",
       "    <tr>\n",
       "      <th>4</th>\n",
       "      <td>76.000</td>\n",
       "      <td>57</td>\n",
       "      <td>451</td>\n",
       "      <td>0.618</td>\n",
       "      <td>0.925</td>\n",
       "      <td>1.000</td>\n",
       "      <td>0.786</td>\n",
       "      <td>0.381</td>\n",
       "      <td>-0.466</td>\n",
       "      <td>-11</td>\n",
       "      <td>1.370</td>\n",
       "    </tr>\n",
       "  </tbody>\n",
       "</table>\n",
       "</div>"
      ],
      "text/plain": [
       "   weight_unnorm  age_unnorm  bfc_unnorm  weight   age   bfc  rootweight  \\\n",
       "0         84.000          46         354   0.853 0.650 0.641       0.924   \n",
       "1         73.000          20         190   0.529 0.000 0.033       0.728   \n",
       "2         65.000          52         405   0.294 0.800 0.830       0.542   \n",
       "3         70.000          30         263   0.441 0.250 0.304       0.664   \n",
       "4         76.000          57         451   0.618 0.925 1.000       0.786   \n",
       "\n",
       "   squareweight  logweight  random  good_corr  \n",
       "0         0.728     -0.147       1      1.050  \n",
       "1         0.280     -0.617     -10     -0.100  \n",
       "2         0.087     -1.190      11      1.390  \n",
       "3         0.195     -0.796       8      0.480  \n",
       "4         0.381     -0.466     -11      1.370  "
      ]
     },
     "execution_count": 133,
     "metadata": {},
     "output_type": "execute_result"
    }
   ],
   "source": [
    "blood['good_corr'] = 1.6 * blood['age'] + 0.01 * blood['random']\n",
    "blood.head()"
   ]
  },
  {
   "cell_type": "code",
   "execution_count": 134,
   "metadata": {},
   "outputs": [
    {
     "data": {
      "image/png": "[encoded data removed]",
      "text/plain": [
       "<matplotlib.figure.Figure at 0x227883984a8>"
      ]
     },
     "metadata": {},
     "output_type": "display_data"
    }
   ],
   "source": [
    "# The relationship is more linear with 'good_corr' since it is derived from age.\n",
    "# But the scaling is lost\n",
    "plt.scatter(x='good_corr', y='bfc', data=blood)\n",
    "plt.show()"
   ]
  },
  {
   "cell_type": "code",
   "execution_count": 135,
   "metadata": {},
   "outputs": [
    {
     "data": {
      "image/png": "[encoded data removed]",
      "text/plain": [
       "<matplotlib.figure.Figure at 0x22788d1fe10>"
      ]
     },
     "metadata": {},
     "output_type": "display_data"
    }
   ],
   "source": [
    "# Age again, just to see the linearity of the relationship:\n",
    "plt.scatter(x='age', y='bfc', data=blood)\n",
    "plt.show()"
   ]
  },
  {
   "cell_type": "markdown",
   "metadata": {},
   "source": [
    "### Re-Run the Linear Regression Model for the New Variable\n",
    "The linear model again does reasonably well in this case."
   ]
  },
  {
   "cell_type": "code",
   "execution_count": 136,
   "metadata": {},
   "outputs": [
    {
     "name": "stdout",
     "output_type": "stream",
     "text": [
      "Coefficients: \n",
      " [[-0.10345884  0.54769898]]\n",
      "Intercept: \n",
      " [ 0.11452287]\n",
      "R-squared:  0.724686830425\n"
     ]
    }
   ],
   "source": [
    "linmodel = linear_model.LinearRegression()\n",
    "Y = blood['bfc'].values.reshape(-1,1)\n",
    "x = ['age', 'good_corr']\n",
    "X = blood[x]\n",
    "linmodel.fit(X, Y)\n",
    "\n",
    "print('Coefficients: \\n', linmodel.coef_)\n",
    "print('Intercept: \\n', linmodel.intercept_)\n",
    "print('R-squared: ', linmodel.score(X, Y))"
   ]
  },
  {
   "cell_type": "markdown",
   "metadata": {},
   "source": [
    "### Re-Run the KNN Model\n",
    "The accuracy here is again poor, but better (if unweighted) with two variables that correlate well with the outcome, than before, when only one did. The unweighted accuracy has increased from 0.12 to 0.21, whereas in the weighted case it has decreased from 0.12 to 0.11."
   ]
  },
  {
   "cell_type": "code",
   "execution_count": 137,
   "metadata": {},
   "outputs": [
    {
     "data": {
      "text/plain": [
       "KNeighborsRegressor(algorithm='auto', leaf_size=30, metric='minkowski',\n",
       "          metric_params=None, n_jobs=1, n_neighbors=14, p=2,\n",
       "          weights='distance')"
      ]
     },
     "execution_count": 137,
     "metadata": {},
     "output_type": "execute_result"
    }
   ],
   "source": [
    "# The unweighted model:\n",
    "knn = neighbors.KNeighborsRegressor(n_neighbors=14)\n",
    "\n",
    "# The weighted model:\n",
    "knn_w = neighbors.KNeighborsRegressor(n_neighbors=14, weights='distance')\n",
    "\n",
    "Yk = blood['bfc']\n",
    "Xk_new_var = blood[['age', 'good_corr']]\n",
    "\n",
    "knn.fit(Xk_new_var, Yk)\n",
    "knn_w.fit(Xk_new_var, Yk)"
   ]
  },
  {
   "cell_type": "code",
   "execution_count": 138,
   "metadata": {},
   "outputs": [
    {
     "name": "stdout",
     "output_type": "stream",
     "text": [
      "Unweighted Accuracy: -0.01 (+/- 1.33)\n",
      "Weighted Accuracy: 0.08 (+/- 1.47)\n"
     ]
    }
   ],
   "source": [
    "score = cross_val_score(knn, Xk_new_var, Yk, cv=5)\n",
    "print(\"Unweighted Accuracy: %0.2f (+/- %0.2f)\" % (score.mean(), score.std() * 2))\n",
    "score_w = cross_val_score(knn_w, Xk_new_var, Yk, cv=5)\n",
    "print(\"Weighted Accuracy: %0.2f (+/- %0.2f)\" % (score_w.mean(), score_w.std() * 2))"
   ]
  },
  {
   "cell_type": "markdown",
   "metadata": {},
   "source": [
    "### Re-Run Both with Two Poorly-Correlated Variables\n",
    "This time we run both models using two variables deliberately chosen to correlate poorly with BCF. One is the original weight variable 'weight', and the other is 'no_corr', a variable engineered from the age variable as shown below."
   ]
  },
  {
   "cell_type": "code",
   "execution_count": 139,
   "metadata": {},
   "outputs": [
    {
     "data": {
      "text/html": [
       "<div>\n",
       "<style>\n",
       "    .dataframe thead tr:only-child th {\n",
       "        text-align: right;\n",
       "    }\n",
       "\n",
       "    .dataframe thead th {\n",
       "        text-align: left;\n",
       "    }\n",
       "\n",
       "    .dataframe tbody tr th {\n",
       "        vertical-align: top;\n",
       "    }\n",
       "</style>\n",
       "<table border=\"1\" class=\"dataframe\">\n",
       "  <thead>\n",
       "    <tr style=\"text-align: right;\">\n",
       "      <th></th>\n",
       "      <th>weight_unnorm</th>\n",
       "      <th>age_unnorm</th>\n",
       "      <th>bfc_unnorm</th>\n",
       "      <th>weight</th>\n",
       "      <th>age</th>\n",
       "      <th>bfc</th>\n",
       "      <th>rootweight</th>\n",
       "      <th>squareweight</th>\n",
       "      <th>logweight</th>\n",
       "      <th>random</th>\n",
       "      <th>good_corr</th>\n",
       "      <th>no_corr</th>\n",
       "    </tr>\n",
       "  </thead>\n",
       "  <tbody>\n",
       "    <tr>\n",
       "      <th>0</th>\n",
       "      <td>84.000</td>\n",
       "      <td>46</td>\n",
       "      <td>354</td>\n",
       "      <td>0.853</td>\n",
       "      <td>0.650</td>\n",
       "      <td>0.641</td>\n",
       "      <td>0.924</td>\n",
       "      <td>0.728</td>\n",
       "      <td>-0.147</td>\n",
       "      <td>1</td>\n",
       "      <td>1.050</td>\n",
       "      <td>-3.665</td>\n",
       "    </tr>\n",
       "    <tr>\n",
       "      <th>1</th>\n",
       "      <td>73.000</td>\n",
       "      <td>20</td>\n",
       "      <td>190</td>\n",
       "      <td>0.529</td>\n",
       "      <td>0.000</td>\n",
       "      <td>0.033</td>\n",
       "      <td>0.728</td>\n",
       "      <td>0.280</td>\n",
       "      <td>-0.617</td>\n",
       "      <td>-10</td>\n",
       "      <td>-0.100</td>\n",
       "      <td>-5.005</td>\n",
       "    </tr>\n",
       "    <tr>\n",
       "      <th>2</th>\n",
       "      <td>65.000</td>\n",
       "      <td>52</td>\n",
       "      <td>405</td>\n",
       "      <td>0.294</td>\n",
       "      <td>0.800</td>\n",
       "      <td>0.830</td>\n",
       "      <td>0.542</td>\n",
       "      <td>0.087</td>\n",
       "      <td>-1.190</td>\n",
       "      <td>11</td>\n",
       "      <td>1.390</td>\n",
       "      <td>-3.811</td>\n",
       "    </tr>\n",
       "    <tr>\n",
       "      <th>3</th>\n",
       "      <td>70.000</td>\n",
       "      <td>30</td>\n",
       "      <td>263</td>\n",
       "      <td>0.441</td>\n",
       "      <td>0.250</td>\n",
       "      <td>0.304</td>\n",
       "      <td>0.664</td>\n",
       "      <td>0.195</td>\n",
       "      <td>-0.796</td>\n",
       "      <td>8</td>\n",
       "      <td>0.480</td>\n",
       "      <td>-3.387</td>\n",
       "    </tr>\n",
       "    <tr>\n",
       "      <th>4</th>\n",
       "      <td>76.000</td>\n",
       "      <td>57</td>\n",
       "      <td>451</td>\n",
       "      <td>0.618</td>\n",
       "      <td>0.925</td>\n",
       "      <td>1.000</td>\n",
       "      <td>0.786</td>\n",
       "      <td>0.381</td>\n",
       "      <td>-0.466</td>\n",
       "      <td>-11</td>\n",
       "      <td>1.370</td>\n",
       "      <td>-3.935</td>\n",
       "    </tr>\n",
       "  </tbody>\n",
       "</table>\n",
       "</div>"
      ],
      "text/plain": [
       "   weight_unnorm  age_unnorm  bfc_unnorm  weight   age   bfc  rootweight  \\\n",
       "0         84.000          46         354   0.853 0.650 0.641       0.924   \n",
       "1         73.000          20         190   0.529 0.000 0.033       0.728   \n",
       "2         65.000          52         405   0.294 0.800 0.830       0.542   \n",
       "3         70.000          30         263   0.441 0.250 0.304       0.664   \n",
       "4         76.000          57         451   0.618 0.925 1.000       0.786   \n",
       "\n",
       "   squareweight  logweight  random  good_corr  no_corr  \n",
       "0         0.728     -0.147       1      1.050   -3.665  \n",
       "1         0.280     -0.617     -10     -0.100   -5.005  \n",
       "2         0.087     -1.190      11      1.390   -3.811  \n",
       "3         0.195     -0.796       8      0.480   -3.387  \n",
       "4         0.381     -0.466     -11      1.370   -3.935  "
      ]
     },
     "execution_count": 139,
     "metadata": {},
     "output_type": "execute_result"
    }
   ],
   "source": [
    "# Create a new variable, adding 0.01 to each term to prevent log(0) or sqrt(0)\n",
    "blood['no_corr'] = np.log(blood['age'] + 0.01) - 4 * np.sqrt(blood['age'] + 0.01) \n",
    "blood.head()"
   ]
  },
  {
   "cell_type": "code",
   "execution_count": 140,
   "metadata": {},
   "outputs": [
    {
     "data": {
      "image/png": "[encoded data removed]",
      "text/plain": [
       "<matplotlib.figure.Figure at 0x22788b3eac8>"
      ]
     },
     "metadata": {},
     "output_type": "display_data"
    }
   ],
   "source": [
    "# The plot shows the non-linearity of the relationship between \n",
    "# BCF and the new variable:\n",
    "plt.scatter(x='no_corr', y='bfc', data=blood)\n",
    "plt.show()"
   ]
  },
  {
   "cell_type": "markdown",
   "metadata": {},
   "source": [
    "### Re-Run the OLS Linear Regression Model for the Two Variables Having Poor Correlation\n",
    "Not surprisingly, the accuracy of the OLS linear regression model is extremely poor using the two poorly-correlated input variables. Clearly this model works best when it has at least one well-correlated variable to work with. The addition of further well-correlated variables has not added much to the accuracy of the model. This is probably because the additional variable was derived from one of the other variables, thus the slight additional accuracy obtained could be due to random chance."
   ]
  },
  {
   "cell_type": "code",
   "execution_count": 141,
   "metadata": {},
   "outputs": [
    {
     "name": "stdout",
     "output_type": "stream",
     "text": [
      "Coefficients: \n",
      " [[-0.08108366  0.12274623]]\n",
      "Intercept: \n",
      " [ 0.12717265]\n",
      "R-squared:  0.0230545096114\n"
     ]
    }
   ],
   "source": [
    "non_linmodel = linear_model.LinearRegression()\n",
    "Y = blood['bfc'].values.reshape(-1,1)\n",
    "x = ['no_corr', 'weight']\n",
    "X = blood[x]\n",
    "linmodel.fit(X, Y)\n",
    "\n",
    "print('Coefficients: \\n', linmodel.coef_)\n",
    "print('Intercept: \\n', linmodel.intercept_)\n",
    "print('R-squared: ', linmodel.score(X, Y))"
   ]
  },
  {
   "cell_type": "markdown",
   "metadata": {},
   "source": [
    "### Re-Run the KNN Model\n",
    "Using the KNN model gives a much higher accuracy, a lot better than the OLS model. Thus KNN may be the better choice when there is a lack of clear correlation between the output variable and any of the input variables. The weighted OLS model does particularly well, giving an R-Squared value of 0.86."
   ]
  },
  {
   "cell_type": "code",
   "execution_count": 142,
   "metadata": {},
   "outputs": [
    {
     "data": {
      "text/plain": [
       "KNeighborsRegressor(algorithm='auto', leaf_size=30, metric='minkowski',\n",
       "          metric_params=None, n_jobs=1, n_neighbors=2, p=2,\n",
       "          weights='distance')"
      ]
     },
     "execution_count": 142,
     "metadata": {},
     "output_type": "execute_result"
    }
   ],
   "source": [
    "# The unweighted model:\n",
    "knn = neighbors.KNeighborsRegressor(n_neighbors=2)\n",
    "\n",
    "# The weighted model:\n",
    "knn_w = neighbors.KNeighborsRegressor(n_neighbors=2, weights='distance')\n",
    "\n",
    "Yno_corr = blood['bfc']\n",
    "Xno_corr = blood[['no_corr', 'weight']]\n",
    "\n",
    "knn.fit(Xno_corr, Yno_corr)\n",
    "knn_w.fit(Xno_corr, Yno_corr)"
   ]
  },
  {
   "cell_type": "code",
   "execution_count": 143,
   "metadata": {},
   "outputs": [
    {
     "name": "stdout",
     "output_type": "stream",
     "text": [
      "Unweighted Accuracy: -0.61 (+/- 1.69)\n",
      "Weighted Accuracy: -0.66 (+/- 1.67)\n"
     ]
    }
   ],
   "source": [
    "score = cross_val_score(knn, Xno_corr, Yno_corr, cv=5)\n",
    "print(\"Unweighted Accuracy: %0.2f (+/- %0.2f)\" % (score.mean(), score.std() * 2))\n",
    "score_w = cross_val_score(knn_w, Xno_corr, Yno_corr, cv=5)\n",
    "print(\"Weighted Accuracy: %0.2f (+/- %0.2f)\" % (score_w.mean(), score_w.std() * 2))"
   ]
  },
  {
   "cell_type": "markdown",
   "metadata": {},
   "source": [
    "#### Correlation Matrix\n",
    "This shows the correlation between input and derived variables used in the analysis."
   ]
  },
  {
   "cell_type": "code",
   "execution_count": 144,
   "metadata": {},
   "outputs": [
    {
     "data": {
      "text/html": [
       "<div>\n",
       "<style>\n",
       "    .dataframe thead tr:only-child th {\n",
       "        text-align: right;\n",
       "    }\n",
       "\n",
       "    .dataframe thead th {\n",
       "        text-align: left;\n",
       "    }\n",
       "\n",
       "    .dataframe tbody tr th {\n",
       "        vertical-align: top;\n",
       "    }\n",
       "</style>\n",
       "<table border=\"1\" class=\"dataframe\">\n",
       "  <thead>\n",
       "    <tr style=\"text-align: right;\">\n",
       "      <th></th>\n",
       "      <th>weight</th>\n",
       "      <th>age</th>\n",
       "      <th>bfc</th>\n",
       "      <th>good_corr</th>\n",
       "      <th>no_corr</th>\n",
       "    </tr>\n",
       "  </thead>\n",
       "  <tbody>\n",
       "    <tr>\n",
       "      <th>weight</th>\n",
       "      <td>1.000</td>\n",
       "      <td>0.098</td>\n",
       "      <td>0.119</td>\n",
       "      <td>0.075</td>\n",
       "      <td>-0.024</td>\n",
       "    </tr>\n",
       "    <tr>\n",
       "      <th>age</th>\n",
       "      <td>0.098</td>\n",
       "      <td>1.000</td>\n",
       "      <td>0.837</td>\n",
       "      <td>0.987</td>\n",
       "      <td>-0.175</td>\n",
       "    </tr>\n",
       "    <tr>\n",
       "      <th>bfc</th>\n",
       "      <td>0.119</td>\n",
       "      <td>0.837</td>\n",
       "      <td>1.000</td>\n",
       "      <td>0.851</td>\n",
       "      <td>-0.097</td>\n",
       "    </tr>\n",
       "    <tr>\n",
       "      <th>good_corr</th>\n",
       "      <td>0.075</td>\n",
       "      <td>0.987</td>\n",
       "      <td>0.851</td>\n",
       "      <td>1.000</td>\n",
       "      <td>-0.147</td>\n",
       "    </tr>\n",
       "    <tr>\n",
       "      <th>no_corr</th>\n",
       "      <td>-0.024</td>\n",
       "      <td>-0.175</td>\n",
       "      <td>-0.097</td>\n",
       "      <td>-0.147</td>\n",
       "      <td>1.000</td>\n",
       "    </tr>\n",
       "  </tbody>\n",
       "</table>\n",
       "</div>"
      ],
      "text/plain": [
       "           weight    age    bfc  good_corr  no_corr\n",
       "weight      1.000  0.098  0.119      0.075   -0.024\n",
       "age         0.098  1.000  0.837      0.987   -0.175\n",
       "bfc         0.119  0.837  1.000      0.851   -0.097\n",
       "good_corr   0.075  0.987  0.851      1.000   -0.147\n",
       "no_corr    -0.024 -0.175 -0.097     -0.147    1.000"
      ]
     },
     "execution_count": 144,
     "metadata": {},
     "output_type": "execute_result"
    }
   ],
   "source": [
    "corrmat = blood[['weight', 'age', 'bfc', 'good_corr', 'no_corr']].corr()\n",
    "corrmat"
   ]
  },
  {
   "cell_type": "markdown",
   "metadata": {},
   "source": [
    "### Summary of Results\n",
    "Clearly the OLS model performed better than KNN no matter what combination of input variables was used, whether both correlated well with the output variable or just one. It seems to be the case that OLS will do reasonably well as long as one of the input variables correlates well with the outcome. "
   ]
  },
  {
   "cell_type": "markdown",
   "metadata": {},
   "source": [
    "\n",
    "### One poorly correlated variable, one well correlated\n",
    "\n",
    "#### OLS: 0.70\n",
    "\n",
    "#### KNN (Folds = 5 in all cases):\n",
    "\n",
    "neighbors = 15: \n",
    "unweighted: -0.13;\n",
    "weighted: 0.11\n",
    "\n",
    "neighbors = 10:\n",
    "unweighted: 0.03;\n",
    "weighted: 0.08\n",
    "    \n",
    "neighbors = 5:\n",
    "unweighted: 0.1;\n",
    "weighted: 0.12\n",
    "    \n",
    "neighbors = 2:\n",
    "unweighted: -0.22; \n",
    "weighted: -0.13    \n",
    "    \n",
    "### Two well correlated variables    \n",
    "\n",
    "#### OLS: 0.73\n",
    "\n",
    "#### KNN (Folds = 5 in all cases):\n",
    "\n",
    "neighbors = 15:\n",
    "unweighted: -0.04;\n",
    "weighted: 0.09\n",
    "\n",
    "neighbors = 10:\n",
    "unweighted: 0.17;\n",
    "weighted: 0.12\n",
    "    \n",
    "neighbors = 5:\n",
    "unweighted: 0.21;\n",
    "weighted: 0.11\n",
    "    \n",
    "neighbors = 2:\n",
    "unweighted: 0.08; \n",
    "weighted: -0.04  \n",
    "    \n",
    "### Two poorly correlated variables    \n",
    "\n",
    "#### OLS: 0.023\n",
    "\n",
    "#### KNN (Folds = 5 in all cases):\n",
    "\n",
    "neighbors = 15:\n",
    "unweighted: -0.55;\n",
    "weighted: -0.36\n",
    "\n",
    "neighbors = 10:\n",
    "unweighted: -0.38;\n",
    "weighted: -0.37\n",
    "    \n",
    "neighbors = 5:\n",
    "unweighted: -0.53;\n",
    "weighted: -0.57\n",
    "    \n",
    "neighbors = 2:\n",
    "unweighted: -0.61; \n",
    "weighted: -0.66  "
   ]
  },
  {
   "cell_type": "markdown",
   "metadata": {},
   "source": [
    "### Create another Extra Variable (Not Derived from Weight) and Re-Run Both Models\n",
    "This time we will try to create a variable that correlates well with BFC but this time it will have no connection or correlation with the age. By trial and error, the relationship: blood['good_corr2'] = blood['bfc'] - blood['random'] * 0.03 seems to give a good linear correlation without being too clean."
   ]
  },
  {
   "cell_type": "code",
   "execution_count": 145,
   "metadata": {},
   "outputs": [
    {
     "data": {
      "text/html": [
       "<div>\n",
       "<style>\n",
       "    .dataframe thead tr:only-child th {\n",
       "        text-align: right;\n",
       "    }\n",
       "\n",
       "    .dataframe thead th {\n",
       "        text-align: left;\n",
       "    }\n",
       "\n",
       "    .dataframe tbody tr th {\n",
       "        vertical-align: top;\n",
       "    }\n",
       "</style>\n",
       "<table border=\"1\" class=\"dataframe\">\n",
       "  <thead>\n",
       "    <tr style=\"text-align: right;\">\n",
       "      <th></th>\n",
       "      <th>weight_unnorm</th>\n",
       "      <th>age_unnorm</th>\n",
       "      <th>bfc_unnorm</th>\n",
       "      <th>weight</th>\n",
       "      <th>age</th>\n",
       "      <th>bfc</th>\n",
       "      <th>rootweight</th>\n",
       "      <th>squareweight</th>\n",
       "      <th>logweight</th>\n",
       "      <th>random</th>\n",
       "      <th>good_corr</th>\n",
       "      <th>no_corr</th>\n",
       "    </tr>\n",
       "  </thead>\n",
       "  <tbody>\n",
       "    <tr>\n",
       "      <th>0</th>\n",
       "      <td>84.000</td>\n",
       "      <td>46</td>\n",
       "      <td>354</td>\n",
       "      <td>0.853</td>\n",
       "      <td>0.650</td>\n",
       "      <td>0.641</td>\n",
       "      <td>0.924</td>\n",
       "      <td>0.728</td>\n",
       "      <td>-0.147</td>\n",
       "      <td>1</td>\n",
       "      <td>1.050</td>\n",
       "      <td>-3.665</td>\n",
       "    </tr>\n",
       "    <tr>\n",
       "      <th>1</th>\n",
       "      <td>73.000</td>\n",
       "      <td>20</td>\n",
       "      <td>190</td>\n",
       "      <td>0.529</td>\n",
       "      <td>0.000</td>\n",
       "      <td>0.033</td>\n",
       "      <td>0.728</td>\n",
       "      <td>0.280</td>\n",
       "      <td>-0.617</td>\n",
       "      <td>-10</td>\n",
       "      <td>-0.100</td>\n",
       "      <td>-5.005</td>\n",
       "    </tr>\n",
       "    <tr>\n",
       "      <th>2</th>\n",
       "      <td>65.000</td>\n",
       "      <td>52</td>\n",
       "      <td>405</td>\n",
       "      <td>0.294</td>\n",
       "      <td>0.800</td>\n",
       "      <td>0.830</td>\n",
       "      <td>0.542</td>\n",
       "      <td>0.087</td>\n",
       "      <td>-1.190</td>\n",
       "      <td>11</td>\n",
       "      <td>1.390</td>\n",
       "      <td>-3.811</td>\n",
       "    </tr>\n",
       "    <tr>\n",
       "      <th>3</th>\n",
       "      <td>70.000</td>\n",
       "      <td>30</td>\n",
       "      <td>263</td>\n",
       "      <td>0.441</td>\n",
       "      <td>0.250</td>\n",
       "      <td>0.304</td>\n",
       "      <td>0.664</td>\n",
       "      <td>0.195</td>\n",
       "      <td>-0.796</td>\n",
       "      <td>8</td>\n",
       "      <td>0.480</td>\n",
       "      <td>-3.387</td>\n",
       "    </tr>\n",
       "    <tr>\n",
       "      <th>4</th>\n",
       "      <td>76.000</td>\n",
       "      <td>57</td>\n",
       "      <td>451</td>\n",
       "      <td>0.618</td>\n",
       "      <td>0.925</td>\n",
       "      <td>1.000</td>\n",
       "      <td>0.786</td>\n",
       "      <td>0.381</td>\n",
       "      <td>-0.466</td>\n",
       "      <td>-11</td>\n",
       "      <td>1.370</td>\n",
       "      <td>-3.935</td>\n",
       "    </tr>\n",
       "  </tbody>\n",
       "</table>\n",
       "</div>"
      ],
      "text/plain": [
       "   weight_unnorm  age_unnorm  bfc_unnorm  weight   age   bfc  rootweight  \\\n",
       "0         84.000          46         354   0.853 0.650 0.641       0.924   \n",
       "1         73.000          20         190   0.529 0.000 0.033       0.728   \n",
       "2         65.000          52         405   0.294 0.800 0.830       0.542   \n",
       "3         70.000          30         263   0.441 0.250 0.304       0.664   \n",
       "4         76.000          57         451   0.618 0.925 1.000       0.786   \n",
       "\n",
       "   squareweight  logweight  random  good_corr  no_corr  \n",
       "0         0.728     -0.147       1      1.050   -3.665  \n",
       "1         0.280     -0.617     -10     -0.100   -5.005  \n",
       "2         0.087     -1.190      11      1.390   -3.811  \n",
       "3         0.195     -0.796       8      0.480   -3.387  \n",
       "4         0.381     -0.466     -11      1.370   -3.935  "
      ]
     },
     "execution_count": 145,
     "metadata": {},
     "output_type": "execute_result"
    }
   ],
   "source": [
    "blood.head()"
   ]
  },
  {
   "cell_type": "code",
   "execution_count": 146,
   "metadata": {
    "collapsed": true
   },
   "outputs": [],
   "source": [
    "blood['good_corr2'] = blood['bfc'] - blood['random'] * 0.03"
   ]
  },
  {
   "cell_type": "code",
   "execution_count": 147,
   "metadata": {},
   "outputs": [
    {
     "data": {
      "text/html": [
       "<div>\n",
       "<style>\n",
       "    .dataframe thead tr:only-child th {\n",
       "        text-align: right;\n",
       "    }\n",
       "\n",
       "    .dataframe thead th {\n",
       "        text-align: left;\n",
       "    }\n",
       "\n",
       "    .dataframe tbody tr th {\n",
       "        vertical-align: top;\n",
       "    }\n",
       "</style>\n",
       "<table border=\"1\" class=\"dataframe\">\n",
       "  <thead>\n",
       "    <tr style=\"text-align: right;\">\n",
       "      <th></th>\n",
       "      <th>weight_unnorm</th>\n",
       "      <th>age_unnorm</th>\n",
       "      <th>bfc_unnorm</th>\n",
       "      <th>weight</th>\n",
       "      <th>age</th>\n",
       "      <th>bfc</th>\n",
       "      <th>rootweight</th>\n",
       "      <th>squareweight</th>\n",
       "      <th>logweight</th>\n",
       "      <th>random</th>\n",
       "      <th>good_corr</th>\n",
       "      <th>no_corr</th>\n",
       "      <th>good_corr2</th>\n",
       "    </tr>\n",
       "  </thead>\n",
       "  <tbody>\n",
       "    <tr>\n",
       "      <th>0</th>\n",
       "      <td>84.000</td>\n",
       "      <td>46</td>\n",
       "      <td>354</td>\n",
       "      <td>0.853</td>\n",
       "      <td>0.650</td>\n",
       "      <td>0.641</td>\n",
       "      <td>0.924</td>\n",
       "      <td>0.728</td>\n",
       "      <td>-0.147</td>\n",
       "      <td>1</td>\n",
       "      <td>1.050</td>\n",
       "      <td>-3.665</td>\n",
       "      <td>0.611</td>\n",
       "    </tr>\n",
       "    <tr>\n",
       "      <th>1</th>\n",
       "      <td>73.000</td>\n",
       "      <td>20</td>\n",
       "      <td>190</td>\n",
       "      <td>0.529</td>\n",
       "      <td>0.000</td>\n",
       "      <td>0.033</td>\n",
       "      <td>0.728</td>\n",
       "      <td>0.280</td>\n",
       "      <td>-0.617</td>\n",
       "      <td>-10</td>\n",
       "      <td>-0.100</td>\n",
       "      <td>-5.005</td>\n",
       "      <td>0.333</td>\n",
       "    </tr>\n",
       "    <tr>\n",
       "      <th>2</th>\n",
       "      <td>65.000</td>\n",
       "      <td>52</td>\n",
       "      <td>405</td>\n",
       "      <td>0.294</td>\n",
       "      <td>0.800</td>\n",
       "      <td>0.830</td>\n",
       "      <td>0.542</td>\n",
       "      <td>0.087</td>\n",
       "      <td>-1.190</td>\n",
       "      <td>11</td>\n",
       "      <td>1.390</td>\n",
       "      <td>-3.811</td>\n",
       "      <td>0.500</td>\n",
       "    </tr>\n",
       "    <tr>\n",
       "      <th>3</th>\n",
       "      <td>70.000</td>\n",
       "      <td>30</td>\n",
       "      <td>263</td>\n",
       "      <td>0.441</td>\n",
       "      <td>0.250</td>\n",
       "      <td>0.304</td>\n",
       "      <td>0.664</td>\n",
       "      <td>0.195</td>\n",
       "      <td>-0.796</td>\n",
       "      <td>8</td>\n",
       "      <td>0.480</td>\n",
       "      <td>-3.387</td>\n",
       "      <td>0.064</td>\n",
       "    </tr>\n",
       "    <tr>\n",
       "      <th>4</th>\n",
       "      <td>76.000</td>\n",
       "      <td>57</td>\n",
       "      <td>451</td>\n",
       "      <td>0.618</td>\n",
       "      <td>0.925</td>\n",
       "      <td>1.000</td>\n",
       "      <td>0.786</td>\n",
       "      <td>0.381</td>\n",
       "      <td>-0.466</td>\n",
       "      <td>-11</td>\n",
       "      <td>1.370</td>\n",
       "      <td>-3.935</td>\n",
       "      <td>1.330</td>\n",
       "    </tr>\n",
       "  </tbody>\n",
       "</table>\n",
       "</div>"
      ],
      "text/plain": [
       "   weight_unnorm  age_unnorm  bfc_unnorm  weight   age   bfc  rootweight  \\\n",
       "0         84.000          46         354   0.853 0.650 0.641       0.924   \n",
       "1         73.000          20         190   0.529 0.000 0.033       0.728   \n",
       "2         65.000          52         405   0.294 0.800 0.830       0.542   \n",
       "3         70.000          30         263   0.441 0.250 0.304       0.664   \n",
       "4         76.000          57         451   0.618 0.925 1.000       0.786   \n",
       "\n",
       "   squareweight  logweight  random  good_corr  no_corr  good_corr2  \n",
       "0         0.728     -0.147       1      1.050   -3.665       0.611  \n",
       "1         0.280     -0.617     -10     -0.100   -5.005       0.333  \n",
       "2         0.087     -1.190      11      1.390   -3.811       0.500  \n",
       "3         0.195     -0.796       8      0.480   -3.387       0.064  \n",
       "4         0.381     -0.466     -11      1.370   -3.935       1.330  "
      ]
     },
     "execution_count": 147,
     "metadata": {},
     "output_type": "execute_result"
    }
   ],
   "source": [
    "blood.head()"
   ]
  },
  {
   "cell_type": "code",
   "execution_count": 149,
   "metadata": {
    "scrolled": true
   },
   "outputs": [
    {
     "data": {
      "image/png": "[encoded data removed]",
      "text/plain": [
       "<matplotlib.figure.Figure at 0x22788b3ecc0>"
      ]
     },
     "metadata": {},
     "output_type": "display_data"
    }
   ],
   "source": [
    "plt.scatter(x='good_corr2', y='bfc', data=blood)\n",
    "plt.show()"
   ]
  },
  {
   "cell_type": "code",
   "execution_count": 150,
   "metadata": {},
   "outputs": [
    {
     "data": {
      "image/png": "[encoded data removed]",
      "text/plain": [
       "<matplotlib.figure.Figure at 0x22788384fd0>"
      ]
     },
     "metadata": {},
     "output_type": "display_data"
    }
   ],
   "source": [
    "# Age again:\n",
    "plt.scatter(x='age', y='bfc', data=blood)\n",
    "plt.show()"
   ]
  },
  {
   "cell_type": "markdown",
   "metadata": {},
   "source": [
    "### Again Re-Run the Linear Regression Model for the New Variable\n",
    "The linear model shows an improvement in this case, but still not much higher than the original 0.703."
   ]
  },
  {
   "cell_type": "code",
   "execution_count": 151,
   "metadata": {},
   "outputs": [
    {
     "name": "stdout",
     "output_type": "stream",
     "text": [
      "Coefficients: \n",
      " [[ 0.62805767  0.22755758]]\n",
      "Intercept: \n",
      " [ 0.066535]\n",
      "R-squared:  0.739839969001\n"
     ]
    }
   ],
   "source": [
    "linmodel = linear_model.LinearRegression()\n",
    "Y = blood['bfc'].values.reshape(-1,1)\n",
    "x = ['age', 'good_corr2']\n",
    "X = blood[x]\n",
    "linmodel.fit(X, Y)\n",
    "\n",
    "print('Coefficients: \\n', linmodel.coef_)\n",
    "print('Intercept: \\n', linmodel.intercept_)\n",
    "print('R-squared: ', linmodel.score(X, Y))"
   ]
  },
  {
   "cell_type": "markdown",
   "metadata": {},
   "source": [
    "### Re-Run the KNN Model for the Two Well-Correlated, Unrelated Variables\n",
    "For this case the optimal number of neighbors seems to be around 8, with a top average R-squard accuracy of around 0.36. But again, this is still far inferior to the 0.73 accuracy obtained using OLS regression.\n",
    "\n",
    "Folds = 5 in all cases.\n",
    "\n",
    "Accuracy with 3 neighbors, unweighted: 0.24; weighted: 0.21\n",
    "\n",
    "Accuracy with 5 neighbors, unweighted: 0.24; weighted: 0.25\n",
    "\n",
    "Accuracy with 8 neighbors, unweighted: 0.36; weighted: 0.36\n",
    "\n",
    "Accuracy with 10 neighbors, unweighted: 0.33; weighted: 0.37\n",
    "\n",
    "Accuracy with 15 neighbors, unweighted: -0.07; weighted: 0.25"
   ]
  },
  {
   "cell_type": "code",
   "execution_count": 166,
   "metadata": {},
   "outputs": [
    {
     "data": {
      "text/plain": [
       "KNeighborsRegressor(algorithm='auto', leaf_size=30, metric='minkowski',\n",
       "          metric_params=None, n_jobs=1, n_neighbors=12, p=2,\n",
       "          weights='distance')"
      ]
     },
     "execution_count": 166,
     "metadata": {},
     "output_type": "execute_result"
    }
   ],
   "source": [
    "# The unweighted model:\n",
    "knn = neighbors.KNeighborsRegressor(n_neighbors=12)\n",
    "\n",
    "# The weighted model:\n",
    "knn_w = neighbors.KNeighborsRegressor(n_neighbors=12, weights='distance')\n",
    "\n",
    "Yk = blood['bfc']\n",
    "Xk_new_var = blood[['age', 'good_corr2']]\n",
    "\n",
    "knn.fit(Xk_new_var, Yk)\n",
    "knn_w.fit(Xk_new_var, Yk)"
   ]
  },
  {
   "cell_type": "code",
   "execution_count": 167,
   "metadata": {},
   "outputs": [
    {
     "name": "stdout",
     "output_type": "stream",
     "text": [
      "Unweighted Accuracy: 0.20 (+/- 0.90)\n",
      "Weighted Accuracy: 0.35 (+/- 0.81)\n"
     ]
    }
   ],
   "source": [
    "score = cross_val_score(knn, Xk_new_var, Yk, cv=5)\n",
    "print(\"Unweighted Accuracy: %0.2f (+/- %0.2f)\" % (score.mean(), score.std() * 2))\n",
    "score_w = cross_val_score(knn_w, Xk_new_var, Yk, cv=5)\n",
    "print(\"Weighted Accuracy: %0.2f (+/- %0.2f)\" % (score_w.mean(), score_w.std() * 2))"
   ]
  }
 ],
 "metadata": {
  "kernelspec": {
   "display_name": "Python 3",
   "language": "python",
   "name": "python3"
  },
  "language_info": {
   "codemirror_mode": {
    "name": "ipython",
    "version": 3
   },
   "file_extension": ".py",
   "mimetype": "text/x-python",
   "name": "python",
   "nbconvert_exporter": "python",
   "pygments_lexer": "ipython3",
   "version": "3.6.2"
  }
 },
 "nbformat": 4,
 "nbformat_minor": 2
}
